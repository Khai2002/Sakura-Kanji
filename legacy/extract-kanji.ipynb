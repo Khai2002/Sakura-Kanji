{
 "cells": [
  {
   "cell_type": "code",
   "execution_count": 1,
   "id": "initial_id",
   "metadata": {
    "collapsed": true,
    "ExecuteTime": {
     "end_time": "2024-06-19T16:39:00.314945200Z",
     "start_time": "2024-06-19T16:38:58.764643Z"
    }
   },
   "outputs": [],
   "source": [
    "import numpy\n",
    "import pandas as pd"
   ]
  },
  {
   "cell_type": "code",
   "execution_count": 11,
   "outputs": [],
   "source": [
    "df = pd.read_csv(\"../data/jlpt_vocab.csv\")\n",
    "df = df.rename(columns={\"JLPT Level\": \"JLPT\"})"
   ],
   "metadata": {
    "collapsed": false,
    "ExecuteTime": {
     "end_time": "2024-06-19T16:40:14.654474500Z",
     "start_time": "2024-06-19T16:40:14.616119Z"
    }
   },
   "id": "4401c7449a4767db"
  },
  {
   "cell_type": "code",
   "execution_count": 12,
   "outputs": [],
   "source": [
    "df = df.loc[(df[\"JLPT\"] == \"N5\") | (df[\"JLPT\"] == \"N4\")]"
   ],
   "metadata": {
    "collapsed": false,
    "ExecuteTime": {
     "end_time": "2024-06-19T16:40:15.514483Z",
     "start_time": "2024-06-19T16:40:15.500234800Z"
    }
   },
   "id": "332c4116e0011f98"
  },
  {
   "cell_type": "code",
   "execution_count": 14,
   "outputs": [
    {
     "data": {
      "text/plain": "6744     踏む\n6745     ～区\n6746    すっと\n6747     盗む\n6748     大抵\n       ... \n8125      私\n8126      私\n8127     渡す\n8128     渡る\n8129     悪い\nName: Original, Length: 1386, dtype: object"
     },
     "execution_count": 14,
     "metadata": {},
     "output_type": "execute_result"
    }
   ],
   "source": [
    "df.Original"
   ],
   "metadata": {
    "collapsed": false,
    "ExecuteTime": {
     "end_time": "2024-06-19T16:40:25.247689200Z",
     "start_time": "2024-06-19T16:40:25.214245500Z"
    }
   },
   "id": "6da85855aae451c0"
  },
  {
   "cell_type": "code",
   "execution_count": 23,
   "outputs": [],
   "source": [
    "kanji_set = set()"
   ],
   "metadata": {
    "collapsed": false,
    "ExecuteTime": {
     "end_time": "2024-06-19T16:44:22.248029700Z",
     "start_time": "2024-06-19T16:44:22.236410500Z"
    }
   },
   "id": "4bffb817bc3afbb9"
  },
  {
   "cell_type": "code",
   "execution_count": 26,
   "outputs": [],
   "source": [
    "for kanji in df.Original:\n",
    "    ls = list(kanji)\n",
    "    kanji_set.update(ls)"
   ],
   "metadata": {
    "collapsed": false,
    "ExecuteTime": {
     "end_time": "2024-06-19T16:44:31.336101200Z",
     "start_time": "2024-06-19T16:44:31.327009300Z"
    }
   },
   "id": "5b00ffc732440c06"
  },
  {
   "cell_type": "code",
   "execution_count": 27,
   "outputs": [
    {
     "data": {
      "text/plain": "{' ',\n '(',\n ')',\n ';',\n '、',\n '々',\n 'あ',\n 'い',\n 'う',\n 'え',\n 'お',\n 'か',\n 'が',\n 'き',\n 'ぎ',\n 'く',\n 'ぐ',\n 'け',\n 'げ',\n 'こ',\n 'ご',\n 'さ',\n 'ざ',\n 'し',\n 'じ',\n 'す',\n 'ず',\n 'せ',\n 'ぜ',\n 'そ',\n 'ぞ',\n 'た',\n 'だ',\n 'ち',\n 'っ',\n 'つ',\n 'て',\n 'で',\n 'と',\n 'ど',\n 'な',\n 'に',\n 'ぬ',\n 'ね',\n 'の',\n 'は',\n 'ば',\n 'ぱ',\n 'ひ',\n 'び',\n 'ぶ',\n 'べ',\n 'ほ',\n 'ま',\n 'み',\n 'む',\n 'め',\n 'も',\n 'ゃ',\n 'や',\n 'ゆ',\n 'ょ',\n 'よ',\n 'ら',\n 'り',\n 'る',\n 'れ',\n 'ろ',\n 'わ',\n 'ん',\n 'ァ',\n 'ア',\n 'ィ',\n 'イ',\n 'ウ',\n 'ェ',\n 'エ',\n 'ォ',\n 'オ',\n 'カ',\n 'ガ',\n 'キ',\n 'ギ',\n 'ク',\n 'グ',\n 'ケ',\n 'コ',\n 'ゴ',\n 'サ',\n 'シ',\n 'ジ',\n 'ス',\n 'ズ',\n 'セ',\n 'ゼ',\n 'ソ',\n 'タ',\n 'ダ',\n 'チ',\n 'ッ',\n 'ツ',\n 'テ',\n 'デ',\n 'ト',\n 'ド',\n 'ナ',\n 'ニ',\n 'ネ',\n 'ノ',\n 'ハ',\n 'バ',\n 'パ',\n 'ヒ',\n 'ビ',\n 'ピ',\n 'フ',\n 'ブ',\n 'プ',\n 'ベ',\n 'ペ',\n 'ホ',\n 'ボ',\n 'ポ',\n 'マ',\n 'ム',\n 'メ',\n 'ャ',\n 'ュ',\n 'ラ',\n 'リ',\n 'ル',\n 'レ',\n 'ロ',\n 'ワ',\n 'ン',\n 'ー',\n '一',\n '丁',\n '七',\n '万',\n '丈',\n '三',\n '上',\n '下',\n '不',\n '世',\n '両',\n '並',\n '中',\n '丸',\n '主',\n '久',\n '乗',\n '九',\n '乳',\n '乾',\n '予',\n '争',\n '事',\n '二',\n '五',\n '亡',\n '交',\n '人',\n '今',\n '介',\n '仕',\n '付',\n '代',\n '以',\n '仮',\n '休',\n '会',\n '伝',\n '伯',\n '伺',\n '似',\n '低',\n '住',\n '体',\n '何',\n '余',\n '作',\n '使',\n '例',\n '供',\n '便',\n '係',\n '個',\n '倍',\n '倒',\n '借',\n '値',\n '側',\n '傘',\n '備',\n '働',\n '僕',\n '億',\n '優',\n '元',\n '兄',\n '先',\n '光',\n '入',\n '全',\n '八',\n '公',\n '六',\n '具',\n '典',\n '内',\n '円',\n '冊',\n '再',\n '写',\n '冬',\n '冷',\n '凄',\n '出',\n '分',\n '切',\n '初',\n '別',\n '利',\n '則',\n '前',\n '割',\n '力',\n '勉',\n '動',\n '務',\n '勝',\n '勢',\n '勤',\n '匂',\n '包',\n '化',\n '北',\n '匹',\n '区',\n '医',\n '十',\n '千',\n '午',\n '半',\n '卒',\n '南',\n '単',\n '危',\n '卵',\n '厚',\n '原',\n '厳',\n '去',\n '参',\n '友',\n '反',\n '叔',\n '取',\n '受',\n '口',\n '古',\n '召',\n '可',\n '台',\n '叱',\n '史',\n '右',\n '号',\n '合',\n '同',\n '名',\n '向',\n '君',\n '吸',\n '吹',\n '呂',\n '周',\n '味',\n '呼',\n '命',\n '咲',\n '品',\n '員',\n '問',\n '喉',\n '喜',\n '喫',\n '嘘',\n '噌',\n '噛',\n '四',\n '回',\n '因',\n '団',\n '困',\n '図',\n '固',\n '国',\n '園',\n '土',\n '在',\n '地',\n '坂',\n '坊',\n '堂',\n '堅',\n '報',\n '場',\n '塗',\n '塩',\n '増',\n '壁',\n '壊',\n '声',\n '売',\n '変',\n '夏',\n '夕',\n '外',\n '多',\n '夜',\n '夢',\n '大',\n '天',\n '太',\n '夫',\n '失',\n '奥',\n '女',\n '好',\n '妹',\n '妻',\n '姉',\n '始',\n '娘',\n '婚',\n '婦',\n '嫌',\n '嬉',\n '嬢',\n '子',\n '字',\n '存',\n '季',\n '学',\n '宅',\n '守',\n '安',\n '官',\n '定',\n '客',\n '室',\n '家',\n '宿',\n '寂',\n '寄',\n '寒',\n '寝',\n '察',\n '寧',\n '寺',\n '対',\n '封',\n '専',\n '射',\n '将',\n '尋',\n '小',\n '少',\n '局',\n '居',\n '届',\n '屋',\n '展',\n '山',\n '岸',\n '島',\n '川',\n '工',\n '左',\n '差',\n '市',\n '布',\n '席',\n '帰',\n '常',\n '帽',\n '平',\n '年',\n '広',\n '床',\n '店',\n '度',\n '座',\n '庫',\n '庭',\n '廊',\n '建',\n '弁',\n '式',\n '引',\n '弟',\n '弱',\n '張',\n '強',\n '弾',\n '当',\n '形',\n '役',\n '彼',\n '待',\n '律',\n '後',\n '徒',\n '御',\n '復',\n '心',\n '必',\n '忘',\n '忙',\n '念',\n '怒',\n '怖',\n '思',\n '急',\n '性',\n '恥',\n '息',\n '悪',\n '悲',\n '意',\n '愛',\n '慣',\n '慮',\n '懸',\n '戦',\n '戸',\n '戻',\n '房',\n '所',\n '手',\n '打',\n '払',\n '承',\n '技',\n '投',\n '折',\n '抵',\n '押',\n '招',\n '拝',\n '拶',\n '拾',\n '持',\n '指',\n '挨',\n '捕',\n '捨',\n '掃',\n '授',\n '掛',\n '探',\n '換',\n '揺',\n '撮',\n '支',\n '放',\n '政',\n '故',\n '敗',\n '教',\n '散',\n '数',\n '文',\n '料',\n '新',\n '方',\n '旅',\n '族',\n '日',\n '早',\n '明',\n '易',\n '昔',\n '星',\n '映',\n '春',\n '昨',\n '是',\n '昼',\n '時',\n '晩',\n '普',\n '景',\n '晴',\n '暇',\n '暑',\n '暖',\n '暗',\n '暮',\n '曇',\n '曜',\n '曲',\n '書',\n '替',\n '最',\n '月',\n '有',\n '服',\n '朝',\n '木',\n '本',\n '机',\n '村',\n '束',\n '来',\n '杯',\n '東',\n '林',\n '枚',\n '果',\n '枝',\n '柔',\n '校',\n '格',\n '案',\n '棒',\n '棚',\n '森',\n '椅',\n '植',\n '業',\n '楽',\n '構',\n '様',\n '横',\n '橋',\n '機',\n '次',\n '欲',\n '歌',\n '止',\n '正',\n '歩',\n '歯',\n '歳',\n '歴',\n '死',\n '残',\n '段',\n '母',\n '毎',\n '比',\n '毛',\n '民',\n '気',\n '水',\n '汚',\n '池',\n '決',\n '汽',\n '沢',\n '河',\n '沸',\n '油',\n '治',\n '泊',\n '法',\n '泣',\n '泥',\n '注',\n '泳',\n '洋',\n '洗',\n '活',\n '浅',\n '浴',\n '海',\n '消',\n '涼',\n '深',\n '済',\n '渡',\n '温',\n '港',\n '湖',\n '湯',\n '準',\n '滑',\n '漢',\n '漫',\n '漬',\n '濡',\n '濯',\n '火',\n '灯',\n '灰',\n '点',\n '為',\n '無',\n '然',\n '焼',\n '熱',\n '父',\n '片',\n '牛',\n '物',\n '特',\n '犬',\n '狭',\n '猫',\n '玄',\n '珍',\n '理',\n '瓶',\n '甘',\n '生',\n '産',\n '用',\n '田',\n '由',\n '申',\n '男',\n '町',\n '画',\n '界',\n '留',\n '番',\n '畳',\n '疲',\n '病',\n '痛',\n '痩',\n '発',\n '登',\n '白',\n '百',\n '皆',\n '皿',\n '盗',\n '盛',\n '目',\n '直',\n '相',\n '看',\n '真',\n '眠',\n '眼',\n '着',\n '知',\n '短',\n '石',\n '砂',\n '研',\n '硬',\n '碗',\n '確',\n '磨',\n '礼',\n '社',\n '祈',\n '祖',\n '祝',\n '神',\n '祭',\n '私',\n '秋',\n '科',\n '移',\n '程',\n '究',\n '空',\n '窓',\n '立',\n '章',\n '競',\n '笑',\n '符',\n '筆',\n '等',\n '筒',\n '答',\n '箱',\n '箸',\n '節',\n '簡',\n '米',\n '糖',\n '糸',\n '約',\n '紅',\n '紙',\n '素',\n '細',\n '紹',\n '終',\n '組',\n '経',\n '結',\n '絡',\n '絵',\n '絹',\n '続',\n '綺',\n '綿',\n '緑',\n '緒',\n '線',\n '締',\n '練',\n '置',\n '美',\n '義',\n '習',\n '翻',\n '考',\n '者',\n '耳',\n '聞',\n '肉',\n '育',\n '背',\n '脚',\n '脱',\n '腕',\n '腹',\n '自',\n '致',\n '興',\n '舎',\n '舞',\n '舟',\n '色',\n '花',\n '若',\n '苦',\n '英',\n '茶',\n '草',\n '荷',\n '菓',\n '菜',\n '落',\n '葉',\n '蔵',\n '薄',\n '薬',\n '虫',\n '血',\n '行',\n '術',\n '表',\n '袋',\n '裏',\n '製',\n '複',\n '褒',\n '西',\n '要',\n '見',\n '規',\n '覚',\n '覧',\n '親',\n '角',\n '触',\n '言',\n '計',\n '記',\n '訪',\n '訳',\n '試',\n '話',\n '誌',\n '誕',\n '語',\n '説',\n '読',\n '誰',\n '課',\n '調',\n '談',\n '講',\n '謝',\n '警',\n '議',\n '護',\n '豚',\n '負',\n '財',\n '買',\n '貸',\n '貼',\n '貿',\n '質',\n '贈',\n '赤',\n '走',\n '起',\n '越',\n '趣',\n '足',\n '踊',\n '踏',\n '車',\n '軒',\n '転',\n '軽',\n '輩',\n '輪',\n '輸',\n '辛',\n '辞',\n '辺',\n '込',\n '迎',\n '近',\n '返',\n '退',\n '送',\n '逃',\n '途',\n '通',\n '速',\n '連',\n '週',\n '進',\n '遅',\n '遊',\n '運',\n '過',\n '道',\n '達',\n '違',\n '遠',\n '適',\n '選',\n '邪',\n '郊',\n '部',\n '郵',\n '都',\n '配',\n '酒',\n '醤',\n '重',\n '野',\n '金',\n '釣',\n '鉄',\n '鉛',\n '銀',\n '鍵',\n '鏡',\n '長',\n '門',\n '閉',\n '開',\n '間',\n '関',\n '降',\n '院',\n '除',\n '陰',\n '険',\n '隅',\n '階',\n '随',\n '際',\n '障',\n '隣',\n '集',\n '雑',\n '難',\n '雨',\n '雪',\n '雲',\n '零',\n '電',\n '震',\n '青',\n '静',\n '非',\n '面',\n '靴',\n '音',\n '頃',\n '頑',\n '頭',\n '頼',\n '題',\n '顔',\n '風',\n '飛',\n '食',\n '飯',\n '飲',\n '飴',\n '飾',\n '館',\n '首',\n '駅',\n '駐',\n '騒',\n '験',\n '驚',\n '高',\n '髪',\n '魔',\n '魚',\n '鳥',\n '鳴',\n '鶏',\n '鹸',\n '麗',\n '黄',\n '黒',\n '鼻',\n '～'}"
     },
     "execution_count": 27,
     "metadata": {},
     "output_type": "execute_result"
    }
   ],
   "source": [
    "kanji_set"
   ],
   "metadata": {
    "collapsed": false,
    "ExecuteTime": {
     "end_time": "2024-06-19T16:44:32.637337300Z",
     "start_time": "2024-06-19T16:44:32.630800800Z"
    }
   },
   "id": "23d97465904c6945"
  },
  {
   "cell_type": "code",
   "execution_count": 29,
   "outputs": [],
   "source": [
    "kanji = pd.read_feather(\"../data/speed_kanji.feather\")"
   ],
   "metadata": {
    "collapsed": false,
    "ExecuteTime": {
     "end_time": "2024-06-19T16:46:27.827523400Z",
     "start_time": "2024-06-19T16:46:27.783485100Z"
    }
   },
   "id": "123320b0e5a846a5"
  },
  {
   "cell_type": "code",
   "execution_count": 35,
   "outputs": [],
   "source": [
    "total_set = set(kanji.kanji)"
   ],
   "metadata": {
    "collapsed": false,
    "ExecuteTime": {
     "end_time": "2024-06-19T16:47:42.073493700Z",
     "start_time": "2024-06-19T16:47:41.989970600Z"
    }
   },
   "id": "9a7c6b200d0221eb"
  },
  {
   "cell_type": "code",
   "execution_count": 38,
   "outputs": [
    {
     "data": {
      "text/plain": "{'絢',\n '堛',\n '假',\n '嬬',\n '癅',\n '榥',\n '嶝',\n '鬮',\n '丰',\n '遺',\n '涪',\n '匠',\n '架',\n '藷',\n '𥔎',\n '斫',\n '狠',\n '虔',\n '鎡',\n '吸',\n '蚰',\n '茺',\n '寂',\n '閽',\n '棟',\n '諴',\n '規',\n '蹩',\n '㘅',\n '艟',\n '胙',\n '遲',\n '霍',\n '瀊',\n '饒',\n '餮',\n '你',\n '迀',\n '滷',\n '颸',\n '欉',\n '澇',\n '縠',\n '賋',\n '蜋',\n '䔥',\n '碘',\n '蓉',\n '嫣',\n '鱪',\n '遦',\n '苛',\n '晎',\n '蹡',\n '羆',\n '侵',\n '晪',\n '殹',\n '槌',\n '梣',\n '鞫',\n '捌',\n '瑶',\n '諼',\n '乍',\n '嵬',\n '檄',\n '昧',\n '指',\n '晋',\n '轤',\n '胰',\n '衕',\n '挫',\n '菏',\n '脖',\n '坡',\n '蔌',\n '纎',\n '髗',\n '鶹',\n '詬',\n '蘒',\n '𣠤',\n '滽',\n '劀',\n '頦',\n '簡',\n '頻',\n '忩',\n '瘃',\n '㗚',\n '渚',\n '言',\n '繵',\n '垪',\n '癸',\n '衆',\n '淙',\n '漩',\n '掻',\n '卻',\n '澋',\n '頓',\n '膊',\n '熙',\n '剹',\n '驃',\n '絏',\n '挧',\n '落',\n '肥',\n '爨',\n '裛',\n '獱',\n '躝',\n '佑',\n '攝',\n '晑',\n '曾',\n '廩',\n '再',\n '羍',\n '牜',\n '鎴',\n '刑',\n '嬸',\n '奯',\n '虀',\n '灉',\n '湳',\n '姐',\n '硯',\n '攈',\n '迻',\n '郌',\n '楔',\n '糖',\n '瓦',\n '㮇',\n '碆',\n '絇',\n '燐',\n '蟫',\n '禿',\n '蒿',\n '蕟',\n '鉥',\n '灌',\n '年',\n '伷',\n '牧',\n '軱',\n '𡶷',\n '冃',\n '鞭',\n '東',\n '嚈',\n '畈',\n '者',\n '婬',\n '廞',\n '礐',\n '翹',\n '蠃',\n '暀',\n '砠',\n '西',\n '辥',\n '侙',\n '漍',\n '鈆',\n '嚦',\n '喂',\n '鰢',\n '鉛',\n '亻',\n '濩',\n '纕',\n '汧',\n '楙',\n '沐',\n '諢',\n '勝',\n '梪',\n '翳',\n '獠',\n '告',\n '矞',\n '維',\n '刱',\n '榀',\n '賭',\n '雕',\n '氳',\n '紇',\n '圛',\n '波',\n '𨸶',\n '錺',\n '傞',\n '岫',\n '正',\n '搠',\n '臃',\n '被',\n '氍',\n '瞿',\n '筝',\n '昤',\n '踆',\n '鬐',\n '鴇',\n '烺',\n '栝',\n '蘸',\n '礆',\n '桧',\n '頰',\n '皮',\n '籍',\n '鏈',\n '侾',\n '銶',\n '恬',\n '啞',\n '弇',\n '輖',\n '淋',\n '瓠',\n '衽',\n '霉',\n '碏',\n '慓',\n '変',\n '邥',\n '㭭',\n '豔',\n '嘶',\n '壝',\n '幉',\n '櫬',\n '睾',\n '番',\n '豙',\n '釽',\n '壂',\n '悑',\n '幢',\n '嫆',\n '萵',\n '摶',\n '愑',\n '餺',\n '掄',\n '痴',\n '酻',\n '袮',\n '羑',\n '償',\n '戞',\n '侅',\n '碨',\n '軸',\n '扇',\n '枘',\n '祘',\n '簳',\n '轅',\n '罽',\n '箒',\n '穣',\n '枋',\n '抑',\n '嬖',\n '嶸',\n '塘',\n '概',\n '膅',\n '熺',\n '暸',\n '尺',\n '暴',\n '峪',\n '騑',\n '経',\n '排',\n '咦',\n '誐',\n '綯',\n '幃',\n '蓏',\n '㵤',\n '鑨',\n '婺',\n '眤',\n '澒',\n '鮃',\n '君',\n '萱',\n '艏',\n '蜘',\n '汀',\n '勍',\n '璽',\n '凪',\n '擅',\n '袒',\n '忶',\n '潙',\n '牻',\n '潜',\n '獟',\n '訄',\n '賅',\n '鍑',\n '僳',\n '每',\n '帥',\n '膵',\n '玢',\n '煬',\n '奉',\n '戻',\n '駲',\n '齯',\n '嘅',\n '懎',\n '橛',\n '呴',\n '楴',\n '悒',\n '㰏',\n '呕',\n '恊',\n '劈',\n '艢',\n '娀',\n '惞',\n '榼',\n '晝',\n '搭',\n '歙',\n '哆',\n '寐',\n '狹',\n '馛',\n '苚',\n '惣',\n '闦',\n '佯',\n '錪',\n '蕾',\n '蹲',\n '魍',\n '簙',\n '閌',\n '蚍',\n '蚚',\n '兘',\n '孰',\n '艦',\n '椚',\n '鴼',\n '醿',\n '毹',\n '剴',\n '竆',\n '徤',\n '悪',\n '畑',\n '螧',\n '研',\n '釧',\n '絎',\n '釐',\n '蔟',\n '奼',\n '珣',\n '逃',\n '迾',\n '嘘',\n '節',\n '匭',\n '謇',\n '麵',\n '舷',\n '敝',\n '聚',\n '獩',\n '齇',\n '摻',\n '緎',\n '霰',\n '兏',\n '啿',\n '妨',\n '獄',\n '憨',\n '鵶',\n '宸',\n '翥',\n '硪',\n '膁',\n '螾',\n '痔',\n '擯',\n '颻',\n '鱰',\n '嶙',\n '歯',\n '耆',\n '宄',\n '霙',\n '瞾',\n '栩',\n '婆',\n '盻',\n '匐',\n '摳',\n '蓬',\n '礵',\n '隦',\n '畱',\n '槣',\n '鐎',\n '湻',\n '酃',\n '薛',\n '鵫',\n '敘',\n '傁',\n '恒',\n '忖',\n '薪',\n '踡',\n '螆',\n '歮',\n '睜',\n '叓',\n '貢',\n '邎',\n '飛',\n '庠',\n '俳',\n '盱',\n '鵃',\n '卾',\n '成',\n '耑',\n '俢',\n '秭',\n '綂',\n '𡉻',\n '仔',\n '祟',\n '祧',\n '蒓',\n '蘰',\n '綅',\n '亅',\n '誕',\n '愨',\n '悲',\n '迢',\n '獲',\n '攵',\n '嶂',\n '駘',\n '柒',\n '矦',\n '璹',\n '竿',\n '隟',\n '戒',\n '埶',\n '䝤',\n '莫',\n '鶚',\n '䋆',\n '餟',\n '志',\n '伺',\n '佞',\n '薔',\n '嶌',\n '賙',\n '嬰',\n '厯',\n '齦',\n '乎',\n '稾',\n '驎',\n '冰',\n '噞',\n '鷓',\n '躪',\n '債',\n '紫',\n '笏',\n '蔢',\n '頄',\n '几',\n '覊',\n '朗',\n '頥',\n '徂',\n '匾',\n '怒',\n '貂',\n '辣',\n '換',\n '浹',\n '樃',\n '譌',\n '唲',\n '匜',\n '嶃',\n '瑦',\n '衛',\n '牚',\n '魣',\n '御',\n '臛',\n '塧',\n '繰',\n '偐',\n '伈',\n '倢',\n '簨',\n '哱',\n '塲',\n '迕',\n '鵲',\n '矱',\n '釯',\n '阹',\n '綛',\n '鈔',\n '顖',\n '伹',\n '崛',\n '級',\n '摜',\n '娰',\n '鬂',\n '娜',\n '詻',\n '䳄',\n '票',\n '譸',\n '渶',\n '習',\n '亙',\n '審',\n '胯',\n '榖',\n '鬍',\n '刘',\n '仛',\n '糦',\n '𠫓',\n '稺',\n '厭',\n '搏',\n '俟',\n '潬',\n '屶',\n '蟬',\n '噏',\n '損',\n '鬠',\n '令',\n '刎',\n '勔',\n '夕',\n '旺',\n '奟',\n '篊',\n '冶',\n '層',\n '懦',\n '昭',\n '鯨',\n '鞍',\n '謞',\n '坼',\n '淇',\n '臺',\n '摛',\n '馼',\n '我',\n '縁',\n '盂',\n '尲',\n '惓',\n '淢',\n '沫',\n '棕',\n '購',\n '樵',\n '遒',\n '僔',\n '蛻',\n '泆',\n '控',\n '耎',\n '逸',\n '鞲',\n '揺',\n '饆',\n '脗',\n '暦',\n '翲',\n '遇',\n '夭',\n '睘',\n '委',\n '駒',\n '乞',\n '鱧',\n '憋',\n '蒼',\n '哽',\n '伃',\n '䟽',\n '妥',\n '桉',\n '涒',\n '洮',\n '槪',\n '突',\n '𥈞',\n '𥞴',\n '蛦',\n '啉',\n '猂',\n '丞',\n '智',\n '蟇',\n '嚕',\n '碌',\n '莇',\n '擭',\n '梖',\n '戴',\n '桟',\n '傪',\n '咅',\n '鍥',\n '貸',\n '𡶜',\n '歡',\n '夝',\n '壩',\n '語',\n '摝',\n '怯',\n '獖',\n '罡',\n '𠦝',\n '蓐',\n '明',\n '蛤',\n '銿',\n '躙',\n '浴',\n '臕',\n '鴃',\n '蔦',\n '賜',\n '朷',\n '驤',\n '蟆',\n '衈',\n '篌',\n '邏',\n '惰',\n '扒',\n '轘',\n '聆',\n '璘',\n '郯',\n '痣',\n '淝',\n '苓',\n '硼',\n '緌',\n '蹄',\n '蹣',\n '晘',\n '竛',\n '泮',\n '鞄',\n '璵',\n '称',\n '窐',\n '涍',\n '箔',\n '複',\n '吭',\n '放',\n '楻',\n '紱',\n '狐',\n '阬',\n '熛',\n '汾',\n '懇',\n '淟',\n '阨',\n '𡋤',\n '粰',\n '媿',\n '爰',\n '砌',\n '堠',\n '梁',\n '廹',\n '葤',\n '蜾',\n '屋',\n '魔',\n '噪',\n '觸',\n '枌',\n '蟤',\n '釞',\n '珻',\n '笇',\n '痳',\n '覓',\n '匊',\n '鯪',\n '毈',\n '秉',\n '俜',\n '坰',\n '鷳',\n '瘖',\n '鴳',\n '杇',\n '糂',\n '罏',\n '澍',\n '醨',\n '挹',\n '㕮',\n '鑢',\n '𦳝',\n '傠',\n '翼',\n '慰',\n '喑',\n '鸑',\n '涁',\n '僎',\n '劚',\n '奥',\n '曮',\n '𨦺',\n '滸',\n '愍',\n '傯',\n '殸',\n '蠵',\n '檁',\n '爯',\n '乱',\n '齒',\n '愽',\n '漰',\n '鍿',\n '翏',\n '囙',\n '蛍',\n '彘',\n '痌',\n '髪',\n '垜',\n '疊',\n '嚾',\n '芳',\n '犖',\n '汶',\n '瑧',\n '譫',\n '栻',\n '翈',\n '涎',\n '蠔',\n '曎',\n '幞',\n '旬',\n '櫨',\n '臑',\n '䯒',\n '薤',\n '㥯',\n '祉',\n '𨩃',\n '襃',\n '浸',\n '揁',\n '覲',\n '觭',\n '撞',\n '戈',\n '玳',\n '嫁',\n '鋥',\n '亨',\n '伊',\n '舒',\n '佬',\n '襜',\n '惛',\n '錴',\n '傣',\n '端',\n '儵',\n '齭',\n '士',\n '怕',\n '黶',\n '襟',\n '病',\n '茣',\n '僘',\n '孅',\n '揚',\n '働',\n '曄',\n '孥',\n '媵',\n '渊',\n '憎',\n '爓',\n '破',\n '瓯',\n '噢',\n '螿',\n '牛',\n '苔',\n '錬',\n '粨',\n '𠵅',\n '鑵',\n '棼',\n '台',\n '楚',\n '迺',\n '垠',\n '逭',\n '廐',\n '凵',\n '姝',\n '臤',\n '怵',\n '笋',\n '蛒',\n '棜',\n '禹',\n '擑',\n '鞹',\n '㓛',\n '蓁',\n '皰',\n '湛',\n '筆',\n '絜',\n '岷',\n '湜',\n '圉',\n '痼',\n '叞',\n '慶',\n '黲',\n '鉼',\n '竇',\n '駱',\n '喰',\n '熚',\n '促',\n '鑾',\n '柛',\n '瘢',\n '勖',\n '黝',\n '舘',\n '跔',\n '蛹',\n '綢',\n '楩',\n '蹇',\n '㐮',\n '陗',\n '刕',\n '棒',\n '貶',\n '褧',\n '烘',\n '𧘱',\n '巗',\n '貅',\n '免',\n '瘏',\n '邀',\n '丹',\n '芮',\n '燌',\n '湘',\n '鰐',\n '泑',\n '箥',\n '衄',\n '豕',\n '對',\n '嶔',\n '井',\n '黹',\n '葒',\n '苗',\n '期',\n '派',\n '巇',\n '躉',\n '从',\n '咮',\n '儆',\n '縅',\n '轥',\n '郶',\n '躁',\n '賤',\n '賉',\n '䅏',\n '誷',\n '甼',\n '摡',\n '㹨',\n '右',\n '遃',\n '擎',\n '扔',\n '曛',\n '悳',\n '盋',\n '礜',\n '䁘',\n '彫',\n '鐚',\n '瓤',\n '嵊',\n '毣',\n '妝',\n '槃',\n '區',\n '忍',\n '煒',\n '醱',\n '瀞',\n '嶹',\n '耓',\n '𣏓',\n '闈',\n '節',\n '牫',\n '丗',\n '赴',\n '魌',\n '鴒',\n '孨',\n '袘',\n '盨',\n '盧',\n '靷',\n '暎',\n '鍔',\n '芒',\n '諵',\n '翔',\n '盎',\n '晜',\n '脇',\n '碔',\n '沆',\n '韆',\n '鎗',\n '蝅',\n '硈',\n '駿',\n '聲',\n '棓',\n '柦',\n '瑝',\n '丘',\n '羭',\n '椸',\n '蚩',\n ...}"
     },
     "execution_count": 38,
     "metadata": {},
     "output_type": "execute_result"
    }
   ],
   "source": [
    "total_set"
   ],
   "metadata": {
    "collapsed": false,
    "ExecuteTime": {
     "end_time": "2024-06-19T16:47:52.893284300Z",
     "start_time": "2024-06-19T16:47:52.879632400Z"
    }
   },
   "id": "836e2770c935210c"
  },
  {
   "cell_type": "code",
   "execution_count": 39,
   "outputs": [],
   "source": [
    "intersection_set = total_set.intersection(kanji_set)"
   ],
   "metadata": {
    "collapsed": false,
    "ExecuteTime": {
     "end_time": "2024-06-19T16:48:43.584276600Z",
     "start_time": "2024-06-19T16:48:43.561906900Z"
    }
   },
   "id": "c3f54a613c482c9a"
  },
  {
   "cell_type": "code",
   "execution_count": 42,
   "outputs": [
    {
     "data": {
      "text/plain": "{'一',\n '丁',\n '七',\n '万',\n '丈',\n '三',\n '上',\n '下',\n '不',\n '世',\n '両',\n '並',\n '中',\n '丸',\n '主',\n '久',\n '乗',\n '九',\n '乳',\n '乾',\n '予',\n '争',\n '事',\n '二',\n '五',\n '亡',\n '交',\n '人',\n '今',\n '介',\n '仕',\n '付',\n '代',\n '以',\n '仮',\n '休',\n '会',\n '伝',\n '伯',\n '伺',\n '似',\n '低',\n '住',\n '体',\n '何',\n '余',\n '作',\n '使',\n '例',\n '供',\n '便',\n '係',\n '個',\n '倍',\n '倒',\n '借',\n '値',\n '側',\n '傘',\n '備',\n '働',\n '僕',\n '億',\n '優',\n '元',\n '兄',\n '先',\n '光',\n '入',\n '全',\n '八',\n '公',\n '六',\n '具',\n '典',\n '内',\n '円',\n '冊',\n '再',\n '写',\n '冬',\n '冷',\n '凄',\n '出',\n '分',\n '切',\n '初',\n '別',\n '利',\n '則',\n '前',\n '割',\n '力',\n '勉',\n '動',\n '務',\n '勝',\n '勢',\n '勤',\n '匂',\n '包',\n '化',\n '北',\n '匹',\n '区',\n '医',\n '十',\n '千',\n '午',\n '半',\n '卒',\n '南',\n '単',\n '危',\n '卵',\n '厚',\n '原',\n '厳',\n '去',\n '参',\n '友',\n '反',\n '叔',\n '取',\n '受',\n '口',\n '古',\n '召',\n '可',\n '台',\n '叱',\n '史',\n '右',\n '号',\n '合',\n '同',\n '名',\n '向',\n '君',\n '吸',\n '吹',\n '呂',\n '周',\n '味',\n '呼',\n '命',\n '咲',\n '品',\n '員',\n '問',\n '喉',\n '喜',\n '喫',\n '嘘',\n '噌',\n '噛',\n '四',\n '回',\n '因',\n '団',\n '困',\n '図',\n '固',\n '国',\n '園',\n '土',\n '在',\n '地',\n '坂',\n '坊',\n '堂',\n '堅',\n '報',\n '場',\n '塗',\n '塩',\n '増',\n '壁',\n '壊',\n '声',\n '売',\n '変',\n '夏',\n '夕',\n '外',\n '多',\n '夜',\n '夢',\n '大',\n '天',\n '太',\n '夫',\n '失',\n '奥',\n '女',\n '好',\n '妹',\n '妻',\n '姉',\n '始',\n '娘',\n '婚',\n '婦',\n '嫌',\n '嬉',\n '嬢',\n '子',\n '字',\n '存',\n '季',\n '学',\n '宅',\n '守',\n '安',\n '官',\n '定',\n '客',\n '室',\n '家',\n '宿',\n '寂',\n '寄',\n '寒',\n '寝',\n '察',\n '寧',\n '寺',\n '対',\n '封',\n '専',\n '射',\n '将',\n '尋',\n '小',\n '少',\n '局',\n '居',\n '届',\n '屋',\n '展',\n '山',\n '岸',\n '島',\n '川',\n '工',\n '左',\n '差',\n '市',\n '布',\n '席',\n '帰',\n '常',\n '帽',\n '平',\n '年',\n '広',\n '床',\n '店',\n '度',\n '座',\n '庫',\n '庭',\n '廊',\n '建',\n '弁',\n '式',\n '引',\n '弟',\n '弱',\n '張',\n '強',\n '弾',\n '当',\n '形',\n '役',\n '彼',\n '待',\n '律',\n '後',\n '徒',\n '御',\n '復',\n '心',\n '必',\n '忘',\n '忙',\n '念',\n '怒',\n '怖',\n '思',\n '急',\n '性',\n '恥',\n '息',\n '悪',\n '悲',\n '意',\n '愛',\n '慣',\n '慮',\n '懸',\n '戦',\n '戸',\n '戻',\n '房',\n '所',\n '手',\n '打',\n '払',\n '承',\n '技',\n '投',\n '折',\n '抵',\n '押',\n '招',\n '拝',\n '拶',\n '拾',\n '持',\n '指',\n '挨',\n '捕',\n '捨',\n '掃',\n '授',\n '掛',\n '探',\n '換',\n '揺',\n '撮',\n '支',\n '放',\n '政',\n '故',\n '敗',\n '教',\n '散',\n '数',\n '文',\n '料',\n '新',\n '方',\n '旅',\n '族',\n '日',\n '早',\n '明',\n '易',\n '昔',\n '星',\n '映',\n '春',\n '昨',\n '是',\n '昼',\n '時',\n '晩',\n '普',\n '景',\n '晴',\n '暇',\n '暑',\n '暖',\n '暗',\n '暮',\n '曇',\n '曜',\n '曲',\n '書',\n '替',\n '最',\n '月',\n '有',\n '服',\n '朝',\n '木',\n '本',\n '机',\n '村',\n '束',\n '来',\n '杯',\n '東',\n '林',\n '枚',\n '果',\n '枝',\n '柔',\n '校',\n '格',\n '案',\n '棒',\n '棚',\n '森',\n '椅',\n '植',\n '業',\n '楽',\n '構',\n '様',\n '横',\n '橋',\n '機',\n '次',\n '欲',\n '歌',\n '止',\n '正',\n '歩',\n '歯',\n '歳',\n '歴',\n '死',\n '残',\n '段',\n '母',\n '毎',\n '比',\n '毛',\n '民',\n '気',\n '水',\n '汚',\n '池',\n '決',\n '汽',\n '沢',\n '河',\n '沸',\n '油',\n '治',\n '泊',\n '法',\n '泣',\n '泥',\n '注',\n '泳',\n '洋',\n '洗',\n '活',\n '浅',\n '浴',\n '海',\n '消',\n '涼',\n '深',\n '済',\n '渡',\n '温',\n '港',\n '湖',\n '湯',\n '準',\n '滑',\n '漢',\n '漫',\n '漬',\n '濡',\n '濯',\n '火',\n '灯',\n '灰',\n '点',\n '為',\n '無',\n '然',\n '焼',\n '熱',\n '父',\n '片',\n '牛',\n '物',\n '特',\n '犬',\n '狭',\n '猫',\n '玄',\n '珍',\n '理',\n '瓶',\n '甘',\n '生',\n '産',\n '用',\n '田',\n '由',\n '申',\n '男',\n '町',\n '画',\n '界',\n '留',\n '番',\n '畳',\n '疲',\n '病',\n '痛',\n '痩',\n '発',\n '登',\n '白',\n '百',\n '皆',\n '皿',\n '盗',\n '盛',\n '目',\n '直',\n '相',\n '看',\n '真',\n '眠',\n '眼',\n '着',\n '知',\n '短',\n '石',\n '砂',\n '研',\n '硬',\n '碗',\n '確',\n '磨',\n '礼',\n '社',\n '祈',\n '祖',\n '祝',\n '神',\n '祭',\n '私',\n '秋',\n '科',\n '移',\n '程',\n '究',\n '空',\n '窓',\n '立',\n '章',\n '競',\n '笑',\n '符',\n '筆',\n '等',\n '筒',\n '答',\n '箱',\n '箸',\n '節',\n '簡',\n '米',\n '糖',\n '糸',\n '約',\n '紅',\n '紙',\n '素',\n '細',\n '紹',\n '終',\n '組',\n '経',\n '結',\n '絡',\n '絵',\n '絹',\n '続',\n '綺',\n '綿',\n '緑',\n '緒',\n '線',\n '締',\n '練',\n '置',\n '美',\n '義',\n '習',\n '翻',\n '考',\n '者',\n '耳',\n '聞',\n '肉',\n '育',\n '背',\n '脚',\n '脱',\n '腕',\n '腹',\n '自',\n '致',\n '興',\n '舎',\n '舞',\n '舟',\n '色',\n '花',\n '若',\n '苦',\n '英',\n '茶',\n '草',\n '荷',\n '菓',\n '菜',\n '落',\n '葉',\n '蔵',\n '薄',\n '薬',\n '虫',\n '血',\n '行',\n '術',\n '表',\n '袋',\n '裏',\n '製',\n '複',\n '褒',\n '西',\n '要',\n '見',\n '規',\n '覚',\n '覧',\n '親',\n '角',\n '触',\n '言',\n '計',\n '記',\n '訪',\n '訳',\n '試',\n '話',\n '誌',\n '誕',\n '語',\n '説',\n '読',\n '誰',\n '課',\n '調',\n '談',\n '講',\n '謝',\n '警',\n '議',\n '護',\n '豚',\n '負',\n '財',\n '買',\n '貸',\n '貼',\n '貿',\n '質',\n '贈',\n '赤',\n '走',\n '起',\n '越',\n '趣',\n '足',\n '踊',\n '踏',\n '車',\n '軒',\n '転',\n '軽',\n '輩',\n '輪',\n '輸',\n '辛',\n '辞',\n '辺',\n '込',\n '迎',\n '近',\n '返',\n '退',\n '送',\n '逃',\n '途',\n '通',\n '速',\n '連',\n '週',\n '進',\n '遅',\n '遊',\n '運',\n '過',\n '道',\n '達',\n '違',\n '遠',\n '適',\n '選',\n '邪',\n '郊',\n '部',\n '郵',\n '都',\n '配',\n '酒',\n '醤',\n '重',\n '野',\n '金',\n '釣',\n '鉄',\n '鉛',\n '銀',\n '鍵',\n '鏡',\n '長',\n '門',\n '閉',\n '開',\n '間',\n '関',\n '降',\n '院',\n '除',\n '陰',\n '険',\n '隅',\n '階',\n '随',\n '際',\n '障',\n '隣',\n '集',\n '雑',\n '難',\n '雨',\n '雪',\n '雲',\n '零',\n '電',\n '震',\n '青',\n '静',\n '非',\n '面',\n '靴',\n '音',\n '頃',\n '頑',\n '頭',\n '頼',\n '題',\n '顔',\n '風',\n '飛',\n '食',\n '飯',\n '飲',\n '飴',\n '飾',\n '館',\n '首',\n '駅',\n '駐',\n '騒',\n '験',\n '驚',\n '高',\n '髪',\n '魔',\n '魚',\n '鳥',\n '鳴',\n '鶏',\n '鹸',\n '麗',\n '黄',\n '黒',\n '鼻'}"
     },
     "execution_count": 42,
     "metadata": {},
     "output_type": "execute_result"
    }
   ],
   "source": [
    "intersection_set"
   ],
   "metadata": {
    "collapsed": false,
    "ExecuteTime": {
     "end_time": "2024-06-19T16:49:05.430914200Z",
     "start_time": "2024-06-19T16:49:05.410256700Z"
    }
   },
   "id": "1639f0f7e0d0a432"
  },
  {
   "cell_type": "code",
   "execution_count": 47,
   "outputs": [],
   "source": [
    "essential_kanji = pd.read_feather(\"../data/essential_kanji.feather\")"
   ],
   "metadata": {
    "collapsed": false,
    "ExecuteTime": {
     "end_time": "2024-06-19T16:53:51.642693300Z",
     "start_time": "2024-06-19T16:53:51.569221300Z"
    }
   },
   "id": "6b36b2f7a12e43e5"
  },
  {
   "cell_type": "code",
   "execution_count": 97,
   "outputs": [],
   "source": [
    "chosen = essential_kanji.loc[essential_kanji.kanji.isin(intersection_set)]"
   ],
   "metadata": {
    "collapsed": false,
    "ExecuteTime": {
     "end_time": "2024-06-19T20:59:46.587953800Z",
     "start_time": "2024-06-19T20:59:46.568340100Z"
    }
   },
   "id": "3e6c2dddbd843a62"
  },
  {
   "cell_type": "code",
   "execution_count": 98,
   "outputs": [
    {
     "data": {
      "text/plain": "    kanji  strokes  grade    freq  jlpt_new  \\\n0       一        1    1.0     2.0       5.0   \n1       二        2    1.0     9.0       5.0   \n2       九        2    1.0    55.0       5.0   \n3       七        2    1.0   115.0       5.0   \n4       人        2    1.0     5.0       5.0   \n..    ...      ...    ...     ...       ...   \n106     年        6    1.0     6.0       5.0   \n107     早        6    1.0   402.0       4.0   \n108     気        6    1.0   113.0       5.0   \n109     百        6    1.0   163.0       5.0   \n111     糸        6    1.0  1488.0       2.0   \n\n                                  meanings readings_on  \\\n0                [One, One Radical (no.1)]    [いち, いつ]   \n1               [Two, Two Radical (no. 7)]      [に, じ]   \n2                                   [Nine]    [きゅう, く]   \n3                                  [Seven]        [しち]   \n4                                 [Person]    [じん, にん]   \n..                                     ...         ...   \n106              [Year, Counter For Years]        [ねん]   \n107                          [Early, Fast]    [そう, さっ]   \n108  [Spirit, Mind, Air, Atmosphere, Mood]      [き, け]   \n109                              [Hundred]  [ひゃく, びゃく]   \n111                               [Thread]         [し]   \n\n                          readings_kun  \n0                          [ひと-, ひと.つ]  \n1                     [ふた, ふた.つ, ふたたび]  \n2                         [ここの, ここの.つ]  \n3                       [なな, なな.つ, なの]  \n4                         [ひと, -り, -と]  \n..                                 ...  \n106                               [とし]  \n107  [はや.い, はや, はや-, はや.まる, はや.める, さ-]  \n108                               [いき]  \n109                               [もも]  \n111                               [いと]  \n\n[100 rows x 8 columns]",
      "text/html": "<div>\n<style scoped>\n    .dataframe tbody tr th:only-of-type {\n        vertical-align: middle;\n    }\n\n    .dataframe tbody tr th {\n        vertical-align: top;\n    }\n\n    .dataframe thead th {\n        text-align: right;\n    }\n</style>\n<table border=\"1\" class=\"dataframe\">\n  <thead>\n    <tr style=\"text-align: right;\">\n      <th></th>\n      <th>kanji</th>\n      <th>strokes</th>\n      <th>grade</th>\n      <th>freq</th>\n      <th>jlpt_new</th>\n      <th>meanings</th>\n      <th>readings_on</th>\n      <th>readings_kun</th>\n    </tr>\n  </thead>\n  <tbody>\n    <tr>\n      <th>0</th>\n      <td>一</td>\n      <td>1</td>\n      <td>1.0</td>\n      <td>2.0</td>\n      <td>5.0</td>\n      <td>[One, One Radical (no.1)]</td>\n      <td>[いち, いつ]</td>\n      <td>[ひと-, ひと.つ]</td>\n    </tr>\n    <tr>\n      <th>1</th>\n      <td>二</td>\n      <td>2</td>\n      <td>1.0</td>\n      <td>9.0</td>\n      <td>5.0</td>\n      <td>[Two, Two Radical (no. 7)]</td>\n      <td>[に, じ]</td>\n      <td>[ふた, ふた.つ, ふたたび]</td>\n    </tr>\n    <tr>\n      <th>2</th>\n      <td>九</td>\n      <td>2</td>\n      <td>1.0</td>\n      <td>55.0</td>\n      <td>5.0</td>\n      <td>[Nine]</td>\n      <td>[きゅう, く]</td>\n      <td>[ここの, ここの.つ]</td>\n    </tr>\n    <tr>\n      <th>3</th>\n      <td>七</td>\n      <td>2</td>\n      <td>1.0</td>\n      <td>115.0</td>\n      <td>5.0</td>\n      <td>[Seven]</td>\n      <td>[しち]</td>\n      <td>[なな, なな.つ, なの]</td>\n    </tr>\n    <tr>\n      <th>4</th>\n      <td>人</td>\n      <td>2</td>\n      <td>1.0</td>\n      <td>5.0</td>\n      <td>5.0</td>\n      <td>[Person]</td>\n      <td>[じん, にん]</td>\n      <td>[ひと, -り, -と]</td>\n    </tr>\n    <tr>\n      <th>...</th>\n      <td>...</td>\n      <td>...</td>\n      <td>...</td>\n      <td>...</td>\n      <td>...</td>\n      <td>...</td>\n      <td>...</td>\n      <td>...</td>\n    </tr>\n    <tr>\n      <th>106</th>\n      <td>年</td>\n      <td>6</td>\n      <td>1.0</td>\n      <td>6.0</td>\n      <td>5.0</td>\n      <td>[Year, Counter For Years]</td>\n      <td>[ねん]</td>\n      <td>[とし]</td>\n    </tr>\n    <tr>\n      <th>107</th>\n      <td>早</td>\n      <td>6</td>\n      <td>1.0</td>\n      <td>402.0</td>\n      <td>4.0</td>\n      <td>[Early, Fast]</td>\n      <td>[そう, さっ]</td>\n      <td>[はや.い, はや, はや-, はや.まる, はや.める, さ-]</td>\n    </tr>\n    <tr>\n      <th>108</th>\n      <td>気</td>\n      <td>6</td>\n      <td>1.0</td>\n      <td>113.0</td>\n      <td>5.0</td>\n      <td>[Spirit, Mind, Air, Atmosphere, Mood]</td>\n      <td>[き, け]</td>\n      <td>[いき]</td>\n    </tr>\n    <tr>\n      <th>109</th>\n      <td>百</td>\n      <td>6</td>\n      <td>1.0</td>\n      <td>163.0</td>\n      <td>5.0</td>\n      <td>[Hundred]</td>\n      <td>[ひゃく, びゃく]</td>\n      <td>[もも]</td>\n    </tr>\n    <tr>\n      <th>111</th>\n      <td>糸</td>\n      <td>6</td>\n      <td>1.0</td>\n      <td>1488.0</td>\n      <td>2.0</td>\n      <td>[Thread]</td>\n      <td>[し]</td>\n      <td>[いと]</td>\n    </tr>\n  </tbody>\n</table>\n<p>100 rows × 8 columns</p>\n</div>"
     },
     "execution_count": 98,
     "metadata": {},
     "output_type": "execute_result"
    }
   ],
   "source": [
    "chosen.head(100)"
   ],
   "metadata": {
    "collapsed": false,
    "ExecuteTime": {
     "end_time": "2024-06-19T20:59:53.257843400Z",
     "start_time": "2024-06-19T20:59:53.211359600Z"
    }
   },
   "id": "d6b375a974233d3a"
  },
  {
   "cell_type": "code",
   "execution_count": 99,
   "outputs": [
    {
     "ename": "IntCastingNaNError",
     "evalue": "Cannot convert non-finite values (NA or inf) to integer",
     "output_type": "error",
     "traceback": [
      "\u001B[1;31m---------------------------------------------------------------------------\u001B[0m",
      "\u001B[1;31mIntCastingNaNError\u001B[0m                        Traceback (most recent call last)",
      "Cell \u001B[1;32mIn[99], line 1\u001B[0m\n\u001B[1;32m----> 1\u001B[0m chosen[\u001B[38;5;124m'\u001B[39m\u001B[38;5;124mgrade\u001B[39m\u001B[38;5;124m'\u001B[39m] \u001B[38;5;241m=\u001B[39m chosen[\u001B[38;5;124m'\u001B[39m\u001B[38;5;124mgrade\u001B[39m\u001B[38;5;124m'\u001B[39m]\u001B[38;5;241m.\u001B[39mastype(\u001B[38;5;28mint\u001B[39m)\n",
      "File \u001B[1;32mD:\\Anaconda\\envs\\ml\\Lib\\site-packages\\pandas\\core\\generic.py:6534\u001B[0m, in \u001B[0;36mNDFrame.astype\u001B[1;34m(self, dtype, copy, errors)\u001B[0m\n\u001B[0;32m   6530\u001B[0m     results \u001B[38;5;241m=\u001B[39m [ser\u001B[38;5;241m.\u001B[39mastype(dtype, copy\u001B[38;5;241m=\u001B[39mcopy) \u001B[38;5;28;01mfor\u001B[39;00m _, ser \u001B[38;5;129;01min\u001B[39;00m \u001B[38;5;28mself\u001B[39m\u001B[38;5;241m.\u001B[39mitems()]\n\u001B[0;32m   6532\u001B[0m \u001B[38;5;28;01melse\u001B[39;00m:\n\u001B[0;32m   6533\u001B[0m     \u001B[38;5;66;03m# else, only a single dtype is given\u001B[39;00m\n\u001B[1;32m-> 6534\u001B[0m     new_data \u001B[38;5;241m=\u001B[39m \u001B[38;5;28mself\u001B[39m\u001B[38;5;241m.\u001B[39m_mgr\u001B[38;5;241m.\u001B[39mastype(dtype\u001B[38;5;241m=\u001B[39mdtype, copy\u001B[38;5;241m=\u001B[39mcopy, errors\u001B[38;5;241m=\u001B[39merrors)\n\u001B[0;32m   6535\u001B[0m     res \u001B[38;5;241m=\u001B[39m \u001B[38;5;28mself\u001B[39m\u001B[38;5;241m.\u001B[39m_constructor_from_mgr(new_data, axes\u001B[38;5;241m=\u001B[39mnew_data\u001B[38;5;241m.\u001B[39maxes)\n\u001B[0;32m   6536\u001B[0m     \u001B[38;5;28;01mreturn\u001B[39;00m res\u001B[38;5;241m.\u001B[39m__finalize__(\u001B[38;5;28mself\u001B[39m, method\u001B[38;5;241m=\u001B[39m\u001B[38;5;124m\"\u001B[39m\u001B[38;5;124mastype\u001B[39m\u001B[38;5;124m\"\u001B[39m)\n",
      "File \u001B[1;32mD:\\Anaconda\\envs\\ml\\Lib\\site-packages\\pandas\\core\\internals\\managers.py:414\u001B[0m, in \u001B[0;36mBaseBlockManager.astype\u001B[1;34m(self, dtype, copy, errors)\u001B[0m\n\u001B[0;32m    411\u001B[0m \u001B[38;5;28;01melif\u001B[39;00m using_copy_on_write():\n\u001B[0;32m    412\u001B[0m     copy \u001B[38;5;241m=\u001B[39m \u001B[38;5;28;01mFalse\u001B[39;00m\n\u001B[1;32m--> 414\u001B[0m \u001B[38;5;28;01mreturn\u001B[39;00m \u001B[38;5;28mself\u001B[39m\u001B[38;5;241m.\u001B[39mapply(\n\u001B[0;32m    415\u001B[0m     \u001B[38;5;124m\"\u001B[39m\u001B[38;5;124mastype\u001B[39m\u001B[38;5;124m\"\u001B[39m,\n\u001B[0;32m    416\u001B[0m     dtype\u001B[38;5;241m=\u001B[39mdtype,\n\u001B[0;32m    417\u001B[0m     copy\u001B[38;5;241m=\u001B[39mcopy,\n\u001B[0;32m    418\u001B[0m     errors\u001B[38;5;241m=\u001B[39merrors,\n\u001B[0;32m    419\u001B[0m     using_cow\u001B[38;5;241m=\u001B[39musing_copy_on_write(),\n\u001B[0;32m    420\u001B[0m )\n",
      "File \u001B[1;32mD:\\Anaconda\\envs\\ml\\Lib\\site-packages\\pandas\\core\\internals\\managers.py:354\u001B[0m, in \u001B[0;36mBaseBlockManager.apply\u001B[1;34m(self, f, align_keys, **kwargs)\u001B[0m\n\u001B[0;32m    352\u001B[0m         applied \u001B[38;5;241m=\u001B[39m b\u001B[38;5;241m.\u001B[39mapply(f, \u001B[38;5;241m*\u001B[39m\u001B[38;5;241m*\u001B[39mkwargs)\n\u001B[0;32m    353\u001B[0m     \u001B[38;5;28;01melse\u001B[39;00m:\n\u001B[1;32m--> 354\u001B[0m         applied \u001B[38;5;241m=\u001B[39m \u001B[38;5;28mgetattr\u001B[39m(b, f)(\u001B[38;5;241m*\u001B[39m\u001B[38;5;241m*\u001B[39mkwargs)\n\u001B[0;32m    355\u001B[0m     result_blocks \u001B[38;5;241m=\u001B[39m extend_blocks(applied, result_blocks)\n\u001B[0;32m    357\u001B[0m out \u001B[38;5;241m=\u001B[39m \u001B[38;5;28mtype\u001B[39m(\u001B[38;5;28mself\u001B[39m)\u001B[38;5;241m.\u001B[39mfrom_blocks(result_blocks, \u001B[38;5;28mself\u001B[39m\u001B[38;5;241m.\u001B[39maxes)\n",
      "File \u001B[1;32mD:\\Anaconda\\envs\\ml\\Lib\\site-packages\\pandas\\core\\internals\\blocks.py:616\u001B[0m, in \u001B[0;36mBlock.astype\u001B[1;34m(self, dtype, copy, errors, using_cow)\u001B[0m\n\u001B[0;32m    596\u001B[0m \u001B[38;5;250m\u001B[39m\u001B[38;5;124;03m\"\"\"\u001B[39;00m\n\u001B[0;32m    597\u001B[0m \u001B[38;5;124;03mCoerce to the new dtype.\u001B[39;00m\n\u001B[0;32m    598\u001B[0m \n\u001B[1;32m   (...)\u001B[0m\n\u001B[0;32m    612\u001B[0m \u001B[38;5;124;03mBlock\u001B[39;00m\n\u001B[0;32m    613\u001B[0m \u001B[38;5;124;03m\"\"\"\u001B[39;00m\n\u001B[0;32m    614\u001B[0m values \u001B[38;5;241m=\u001B[39m \u001B[38;5;28mself\u001B[39m\u001B[38;5;241m.\u001B[39mvalues\n\u001B[1;32m--> 616\u001B[0m new_values \u001B[38;5;241m=\u001B[39m astype_array_safe(values, dtype, copy\u001B[38;5;241m=\u001B[39mcopy, errors\u001B[38;5;241m=\u001B[39merrors)\n\u001B[0;32m    618\u001B[0m new_values \u001B[38;5;241m=\u001B[39m maybe_coerce_values(new_values)\n\u001B[0;32m    620\u001B[0m refs \u001B[38;5;241m=\u001B[39m \u001B[38;5;28;01mNone\u001B[39;00m\n",
      "File \u001B[1;32mD:\\Anaconda\\envs\\ml\\Lib\\site-packages\\pandas\\core\\dtypes\\astype.py:238\u001B[0m, in \u001B[0;36mastype_array_safe\u001B[1;34m(values, dtype, copy, errors)\u001B[0m\n\u001B[0;32m    235\u001B[0m     dtype \u001B[38;5;241m=\u001B[39m dtype\u001B[38;5;241m.\u001B[39mnumpy_dtype\n\u001B[0;32m    237\u001B[0m \u001B[38;5;28;01mtry\u001B[39;00m:\n\u001B[1;32m--> 238\u001B[0m     new_values \u001B[38;5;241m=\u001B[39m astype_array(values, dtype, copy\u001B[38;5;241m=\u001B[39mcopy)\n\u001B[0;32m    239\u001B[0m \u001B[38;5;28;01mexcept\u001B[39;00m (\u001B[38;5;167;01mValueError\u001B[39;00m, \u001B[38;5;167;01mTypeError\u001B[39;00m):\n\u001B[0;32m    240\u001B[0m     \u001B[38;5;66;03m# e.g. _astype_nansafe can fail on object-dtype of strings\u001B[39;00m\n\u001B[0;32m    241\u001B[0m     \u001B[38;5;66;03m#  trying to convert to float\u001B[39;00m\n\u001B[0;32m    242\u001B[0m     \u001B[38;5;28;01mif\u001B[39;00m errors \u001B[38;5;241m==\u001B[39m \u001B[38;5;124m\"\u001B[39m\u001B[38;5;124mignore\u001B[39m\u001B[38;5;124m\"\u001B[39m:\n",
      "File \u001B[1;32mD:\\Anaconda\\envs\\ml\\Lib\\site-packages\\pandas\\core\\dtypes\\astype.py:183\u001B[0m, in \u001B[0;36mastype_array\u001B[1;34m(values, dtype, copy)\u001B[0m\n\u001B[0;32m    180\u001B[0m     values \u001B[38;5;241m=\u001B[39m values\u001B[38;5;241m.\u001B[39mastype(dtype, copy\u001B[38;5;241m=\u001B[39mcopy)\n\u001B[0;32m    182\u001B[0m \u001B[38;5;28;01melse\u001B[39;00m:\n\u001B[1;32m--> 183\u001B[0m     values \u001B[38;5;241m=\u001B[39m _astype_nansafe(values, dtype, copy\u001B[38;5;241m=\u001B[39mcopy)\n\u001B[0;32m    185\u001B[0m \u001B[38;5;66;03m# in pandas we don't store numpy str dtypes, so convert to object\u001B[39;00m\n\u001B[0;32m    186\u001B[0m \u001B[38;5;28;01mif\u001B[39;00m \u001B[38;5;28misinstance\u001B[39m(dtype, np\u001B[38;5;241m.\u001B[39mdtype) \u001B[38;5;129;01mand\u001B[39;00m \u001B[38;5;28missubclass\u001B[39m(values\u001B[38;5;241m.\u001B[39mdtype\u001B[38;5;241m.\u001B[39mtype, \u001B[38;5;28mstr\u001B[39m):\n",
      "File \u001B[1;32mD:\\Anaconda\\envs\\ml\\Lib\\site-packages\\pandas\\core\\dtypes\\astype.py:101\u001B[0m, in \u001B[0;36m_astype_nansafe\u001B[1;34m(arr, dtype, copy, skipna)\u001B[0m\n\u001B[0;32m     96\u001B[0m     \u001B[38;5;28;01mreturn\u001B[39;00m lib\u001B[38;5;241m.\u001B[39mensure_string_array(\n\u001B[0;32m     97\u001B[0m         arr, skipna\u001B[38;5;241m=\u001B[39mskipna, convert_na_value\u001B[38;5;241m=\u001B[39m\u001B[38;5;28;01mFalse\u001B[39;00m\n\u001B[0;32m     98\u001B[0m     )\u001B[38;5;241m.\u001B[39mreshape(shape)\n\u001B[0;32m    100\u001B[0m \u001B[38;5;28;01melif\u001B[39;00m np\u001B[38;5;241m.\u001B[39missubdtype(arr\u001B[38;5;241m.\u001B[39mdtype, np\u001B[38;5;241m.\u001B[39mfloating) \u001B[38;5;129;01mand\u001B[39;00m dtype\u001B[38;5;241m.\u001B[39mkind \u001B[38;5;129;01min\u001B[39;00m \u001B[38;5;124m\"\u001B[39m\u001B[38;5;124miu\u001B[39m\u001B[38;5;124m\"\u001B[39m:\n\u001B[1;32m--> 101\u001B[0m     \u001B[38;5;28;01mreturn\u001B[39;00m _astype_float_to_int_nansafe(arr, dtype, copy)\n\u001B[0;32m    103\u001B[0m \u001B[38;5;28;01melif\u001B[39;00m arr\u001B[38;5;241m.\u001B[39mdtype \u001B[38;5;241m==\u001B[39m \u001B[38;5;28mobject\u001B[39m:\n\u001B[0;32m    104\u001B[0m     \u001B[38;5;66;03m# if we have a datetime/timedelta array of objects\u001B[39;00m\n\u001B[0;32m    105\u001B[0m     \u001B[38;5;66;03m# then coerce to datetime64[ns] and use DatetimeArray.astype\u001B[39;00m\n\u001B[0;32m    107\u001B[0m     \u001B[38;5;28;01mif\u001B[39;00m lib\u001B[38;5;241m.\u001B[39mis_np_dtype(dtype, \u001B[38;5;124m\"\u001B[39m\u001B[38;5;124mM\u001B[39m\u001B[38;5;124m\"\u001B[39m):\n",
      "File \u001B[1;32mD:\\Anaconda\\envs\\ml\\Lib\\site-packages\\pandas\\core\\dtypes\\astype.py:146\u001B[0m, in \u001B[0;36m_astype_float_to_int_nansafe\u001B[1;34m(values, dtype, copy)\u001B[0m\n\u001B[0;32m    142\u001B[0m \u001B[38;5;250m\u001B[39m\u001B[38;5;124;03m\"\"\"\u001B[39;00m\n\u001B[0;32m    143\u001B[0m \u001B[38;5;124;03mastype with a check preventing converting NaN to an meaningless integer value.\u001B[39;00m\n\u001B[0;32m    144\u001B[0m \u001B[38;5;124;03m\"\"\"\u001B[39;00m\n\u001B[0;32m    145\u001B[0m \u001B[38;5;28;01mif\u001B[39;00m \u001B[38;5;129;01mnot\u001B[39;00m np\u001B[38;5;241m.\u001B[39misfinite(values)\u001B[38;5;241m.\u001B[39mall():\n\u001B[1;32m--> 146\u001B[0m     \u001B[38;5;28;01mraise\u001B[39;00m IntCastingNaNError(\n\u001B[0;32m    147\u001B[0m         \u001B[38;5;124m\"\u001B[39m\u001B[38;5;124mCannot convert non-finite values (NA or inf) to integer\u001B[39m\u001B[38;5;124m\"\u001B[39m\n\u001B[0;32m    148\u001B[0m     )\n\u001B[0;32m    149\u001B[0m \u001B[38;5;28;01mif\u001B[39;00m dtype\u001B[38;5;241m.\u001B[39mkind \u001B[38;5;241m==\u001B[39m \u001B[38;5;124m\"\u001B[39m\u001B[38;5;124mu\u001B[39m\u001B[38;5;124m\"\u001B[39m:\n\u001B[0;32m    150\u001B[0m     \u001B[38;5;66;03m# GH#45151\u001B[39;00m\n\u001B[0;32m    151\u001B[0m     \u001B[38;5;28;01mif\u001B[39;00m \u001B[38;5;129;01mnot\u001B[39;00m (values \u001B[38;5;241m>\u001B[39m\u001B[38;5;241m=\u001B[39m \u001B[38;5;241m0\u001B[39m)\u001B[38;5;241m.\u001B[39mall():\n",
      "\u001B[1;31mIntCastingNaNError\u001B[0m: Cannot convert non-finite values (NA or inf) to integer"
     ]
    }
   ],
   "source": [
    "chosen['grade'] = chosen['grade'].astype(int)"
   ],
   "metadata": {
    "collapsed": false,
    "ExecuteTime": {
     "end_time": "2024-06-19T21:00:50.132960300Z",
     "start_time": "2024-06-19T21:00:47.040703900Z"
    }
   },
   "id": "62466d5f327f7422"
  },
  {
   "cell_type": "code",
   "execution_count": 94,
   "outputs": [],
   "source": [
    "def ndarray_to_comma_string(array):\n",
    "    # Flatten the array (if not already 1D)\n",
    "    flattened_array = array.flatten()\n",
    "    # Convert to a list\n",
    "    array_list = flattened_array.tolist()\n",
    "    # Convert each element to a string and join with commas\n",
    "    comma_separated_string = ', '.join(map(str, array_list))\n",
    "    return comma_separated_string"
   ],
   "metadata": {
    "collapsed": false,
    "ExecuteTime": {
     "end_time": "2024-06-19T20:57:10.605848800Z",
     "start_time": "2024-06-19T20:57:10.586795100Z"
    }
   },
   "id": "9a4be8928ccbe42c"
  },
  {
   "cell_type": "code",
   "execution_count": 56,
   "outputs": [
    {
     "data": {
      "text/plain": "     kanji  strokes  grade    freq  jlpt_new  \\\n0        一        1    1.0     2.0       5.0   \n1        二        2    1.0     9.0       5.0   \n2        九        2    1.0    55.0       5.0   \n3        七        2    1.0   115.0       5.0   \n4        人        2    1.0     5.0       5.0   \n...    ...      ...    ...     ...       ...   \n2498     凄       10    8.0  2313.0       NaN   \n2541     痩       12    8.0     NaN       NaN   \n2707     匂        4    8.0  2213.0       NaN   \n2711     濡       17    9.0  2260.0       NaN   \n2976     碗       13    9.0     NaN       NaN   \n\n                                          meanings         readings_on  \\\n0                        [One, One Radical (no.1)]            [いち, いつ]   \n1                       [Two, Two Radical (no. 7)]              [に, じ]   \n2                                           [Nine]            [きゅう, く]   \n3                                          [Seven]                [しち]   \n4                                         [Person]            [じん, にん]   \n...                                            ...                 ...   \n2498       [Uncanny, Weird, Threatening, Horrible]            [せい, さい]   \n2541                                    [Get Thin]  [そう, ちゅう, しゅう, しゅ]   \n2707  [Fragrant, Stink, Glow, Insinuate, (kokuji)]                  []   \n2711                    [Get Wet, Damp, Make Love]            [じゅ, にゅ]   \n2976                     [Porcelain Bowl, Tea Cup]                [わん]   \n\n                                       readings_kun  \n0                                       [ひと-, ひと.つ]  \n1                                  [ふた, ふた.つ, ふたたび]  \n2                                      [ここの, ここの.つ]  \n3                                    [なな, なな.つ, なの]  \n4                                      [ひと, -り, -と]  \n...                                             ...  \n2498                           [さむ.い, すご.い, すさ.まじい]  \n2541                                         [や.せる]  \n2707                           [にお.う, にお.い, にお.わせる]  \n2711  [ぬれ.る, ぬら.す, ぬ.れる, ぬ.らす, うるお.い, うるお.う, うるお.す]  \n2976                                          [こばち]  \n\n[784 rows x 8 columns]",
      "text/html": "<div>\n<style scoped>\n    .dataframe tbody tr th:only-of-type {\n        vertical-align: middle;\n    }\n\n    .dataframe tbody tr th {\n        vertical-align: top;\n    }\n\n    .dataframe thead th {\n        text-align: right;\n    }\n</style>\n<table border=\"1\" class=\"dataframe\">\n  <thead>\n    <tr style=\"text-align: right;\">\n      <th></th>\n      <th>kanji</th>\n      <th>strokes</th>\n      <th>grade</th>\n      <th>freq</th>\n      <th>jlpt_new</th>\n      <th>meanings</th>\n      <th>readings_on</th>\n      <th>readings_kun</th>\n    </tr>\n  </thead>\n  <tbody>\n    <tr>\n      <th>0</th>\n      <td>一</td>\n      <td>1</td>\n      <td>1.0</td>\n      <td>2.0</td>\n      <td>5.0</td>\n      <td>[One, One Radical (no.1)]</td>\n      <td>[いち, いつ]</td>\n      <td>[ひと-, ひと.つ]</td>\n    </tr>\n    <tr>\n      <th>1</th>\n      <td>二</td>\n      <td>2</td>\n      <td>1.0</td>\n      <td>9.0</td>\n      <td>5.0</td>\n      <td>[Two, Two Radical (no. 7)]</td>\n      <td>[に, じ]</td>\n      <td>[ふた, ふた.つ, ふたたび]</td>\n    </tr>\n    <tr>\n      <th>2</th>\n      <td>九</td>\n      <td>2</td>\n      <td>1.0</td>\n      <td>55.0</td>\n      <td>5.0</td>\n      <td>[Nine]</td>\n      <td>[きゅう, く]</td>\n      <td>[ここの, ここの.つ]</td>\n    </tr>\n    <tr>\n      <th>3</th>\n      <td>七</td>\n      <td>2</td>\n      <td>1.0</td>\n      <td>115.0</td>\n      <td>5.0</td>\n      <td>[Seven]</td>\n      <td>[しち]</td>\n      <td>[なな, なな.つ, なの]</td>\n    </tr>\n    <tr>\n      <th>4</th>\n      <td>人</td>\n      <td>2</td>\n      <td>1.0</td>\n      <td>5.0</td>\n      <td>5.0</td>\n      <td>[Person]</td>\n      <td>[じん, にん]</td>\n      <td>[ひと, -り, -と]</td>\n    </tr>\n    <tr>\n      <th>...</th>\n      <td>...</td>\n      <td>...</td>\n      <td>...</td>\n      <td>...</td>\n      <td>...</td>\n      <td>...</td>\n      <td>...</td>\n      <td>...</td>\n    </tr>\n    <tr>\n      <th>2498</th>\n      <td>凄</td>\n      <td>10</td>\n      <td>8.0</td>\n      <td>2313.0</td>\n      <td>NaN</td>\n      <td>[Uncanny, Weird, Threatening, Horrible]</td>\n      <td>[せい, さい]</td>\n      <td>[さむ.い, すご.い, すさ.まじい]</td>\n    </tr>\n    <tr>\n      <th>2541</th>\n      <td>痩</td>\n      <td>12</td>\n      <td>8.0</td>\n      <td>NaN</td>\n      <td>NaN</td>\n      <td>[Get Thin]</td>\n      <td>[そう, ちゅう, しゅう, しゅ]</td>\n      <td>[や.せる]</td>\n    </tr>\n    <tr>\n      <th>2707</th>\n      <td>匂</td>\n      <td>4</td>\n      <td>8.0</td>\n      <td>2213.0</td>\n      <td>NaN</td>\n      <td>[Fragrant, Stink, Glow, Insinuate, (kokuji)]</td>\n      <td>[]</td>\n      <td>[にお.う, にお.い, にお.わせる]</td>\n    </tr>\n    <tr>\n      <th>2711</th>\n      <td>濡</td>\n      <td>17</td>\n      <td>9.0</td>\n      <td>2260.0</td>\n      <td>NaN</td>\n      <td>[Get Wet, Damp, Make Love]</td>\n      <td>[じゅ, にゅ]</td>\n      <td>[ぬれ.る, ぬら.す, ぬ.れる, ぬ.らす, うるお.い, うるお.う, うるお.す]</td>\n    </tr>\n    <tr>\n      <th>2976</th>\n      <td>碗</td>\n      <td>13</td>\n      <td>9.0</td>\n      <td>NaN</td>\n      <td>NaN</td>\n      <td>[Porcelain Bowl, Tea Cup]</td>\n      <td>[わん]</td>\n      <td>[こばち]</td>\n    </tr>\n  </tbody>\n</table>\n<p>784 rows × 8 columns</p>\n</div>"
     },
     "execution_count": 56,
     "metadata": {},
     "output_type": "execute_result"
    }
   ],
   "source": [
    "chosen.head()"
   ],
   "metadata": {
    "collapsed": false,
    "ExecuteTime": {
     "end_time": "2024-06-19T20:43:38.334872600Z",
     "start_time": "2024-06-19T20:43:38.299893700Z"
    }
   },
   "id": "bb074cf1a4fd741b"
  },
  {
   "cell_type": "code",
   "execution_count": 89,
   "outputs": [],
   "source": [
    "def escape_quotes(input_string):\n",
    "    # Escape single and double quotes\n",
    "    escaped_string = input_string.replace('[', '').replace(']', '')\n",
    "    escaped_string = escaped_string.replace('\"', '\\\\\"').replace(\"'\", \"\\\\'\")\n",
    "    return escaped_string\n",
    "\n",
    "def cypher_transform(row):\n",
    "    import numpy\n",
    "    cypher = ':KANJI{'\n",
    "    for col in row.keys()[:-1]:\n",
    "        if type(row[col]) == numpy.ndarray:\n",
    "            cypher = cypher + col.lower() + \":\\\"\" + escape_quotes(ndarray_to_comma_string(row[col])) + \"\\\", \"\n",
    "        else:\n",
    "            cypher = cypher + col.lower() + \":\\\"\" + escape_quotes(str(row[col])) + \"\\\", \"\n",
    "    if type(row[row.keys()[-1]]) == numpy.ndarray:\n",
    "        cypher = cypher + row.keys()[-1].lower() + \":\\\"\" + escape_quotes(ndarray_to_comma_string(row[row.keys()[-1]])) + \"\\\"}\"\n",
    "    else:\n",
    "        cypher = cypher + row.keys()[-1].lower() + \":\\\"\" + escape_quotes(ndarray_to_comma_string(row[row.keys()[-1]])) + \"\\\"}\"\n",
    "    return cypher"
   ],
   "metadata": {
    "collapsed": false,
    "ExecuteTime": {
     "end_time": "2024-06-19T20:56:07.019889Z",
     "start_time": "2024-06-19T20:56:07.009231800Z"
    }
   },
   "id": "d5638ae7068d21aa"
  },
  {
   "cell_type": "code",
   "execution_count": 90,
   "outputs": [],
   "source": [
    "series = chosen.apply(cypher_transform, axis=1)"
   ],
   "metadata": {
    "collapsed": false,
    "ExecuteTime": {
     "end_time": "2024-06-19T20:56:07.781867700Z",
     "start_time": "2024-06-19T20:56:07.765212300Z"
    }
   },
   "id": "d468b9f11cf652f9"
  },
  {
   "cell_type": "code",
   "execution_count": 91,
   "outputs": [
    {
     "data": {
      "text/plain": "0       :KANJI{kanji:\"一\", strokes:\"1\", grade:\"1.0\", fr...\n1       :KANJI{kanji:\"二\", strokes:\"2\", grade:\"1.0\", fr...\n2       :KANJI{kanji:\"九\", strokes:\"2\", grade:\"1.0\", fr...\n3       :KANJI{kanji:\"七\", strokes:\"2\", grade:\"1.0\", fr...\n4       :KANJI{kanji:\"人\", strokes:\"2\", grade:\"1.0\", fr...\n                              ...                        \n2498    :KANJI{kanji:\"凄\", strokes:\"10\", grade:\"8.0\", f...\n2541    :KANJI{kanji:\"痩\", strokes:\"12\", grade:\"8.0\", f...\n2707    :KANJI{kanji:\"匂\", strokes:\"4\", grade:\"8.0\", fr...\n2711    :KANJI{kanji:\"濡\", strokes:\"17\", grade:\"9.0\", f...\n2976    :KANJI{kanji:\"碗\", strokes:\"13\", grade:\"9.0\", f...\nLength: 784, dtype: object"
     },
     "execution_count": 91,
     "metadata": {},
     "output_type": "execute_result"
    }
   ],
   "source": [
    "series"
   ],
   "metadata": {
    "collapsed": false,
    "ExecuteTime": {
     "end_time": "2024-06-19T20:56:09.325029200Z",
     "start_time": "2024-06-19T20:56:09.313499100Z"
    }
   },
   "id": "36fbb1df86ebfda9"
  },
  {
   "cell_type": "code",
   "execution_count": 93,
   "outputs": [
    {
     "data": {
      "text/plain": "':KANJI{kanji:\"耳\", strokes:\"6\", grade:\"1.0\", freq:\"1328.0\", jlpt_new:\"3.0\", meanings:\"Ear\", readings_on:\"じ\", readings_kun:\"みみ\"}'"
     },
     "execution_count": 93,
     "metadata": {},
     "output_type": "execute_result"
    }
   ],
   "source": [
    "series.iloc[100]"
   ],
   "metadata": {
    "collapsed": false,
    "ExecuteTime": {
     "end_time": "2024-06-19T20:56:18.889110200Z",
     "start_time": "2024-06-19T20:56:18.870539400Z"
    }
   },
   "id": "6f71e8a7e65e0f17"
  },
  {
   "cell_type": "code",
   "execution_count": 95,
   "outputs": [],
   "source": [
    "def format_and_save_series(series, filename):\n",
    "    with open(filename, 'w', encoding='utf-8') as file:\n",
    "        file.write(\"CREATE\\n\")\n",
    "        for s in series:\n",
    "            file.write(f\"({s}),\\n\")"
   ],
   "metadata": {
    "collapsed": false,
    "ExecuteTime": {
     "end_time": "2024-06-19T20:57:14.817805200Z",
     "start_time": "2024-06-19T20:57:14.802103200Z"
    }
   },
   "id": "4d95b44daeca4f4c"
  },
  {
   "cell_type": "code",
   "execution_count": 96,
   "outputs": [],
   "source": [
    "format_and_save_series(series, \"kanji_cypher.txt\")"
   ],
   "metadata": {
    "collapsed": false,
    "ExecuteTime": {
     "end_time": "2024-06-19T20:57:39.577374700Z",
     "start_time": "2024-06-19T20:57:39.558404400Z"
    }
   },
   "id": "7ddee8ad096848a5"
  },
  {
   "cell_type": "code",
   "execution_count": null,
   "outputs": [],
   "source": [],
   "metadata": {
    "collapsed": false
   },
   "id": "e640257ab5f8f1"
  }
 ],
 "metadata": {
  "kernelspec": {
   "display_name": "Python 3",
   "language": "python",
   "name": "python3"
  },
  "language_info": {
   "codemirror_mode": {
    "name": "ipython",
    "version": 2
   },
   "file_extension": ".py",
   "mimetype": "text/x-python",
   "name": "python",
   "nbconvert_exporter": "python",
   "pygments_lexer": "ipython2",
   "version": "2.7.6"
  }
 },
 "nbformat": 4,
 "nbformat_minor": 5
}
