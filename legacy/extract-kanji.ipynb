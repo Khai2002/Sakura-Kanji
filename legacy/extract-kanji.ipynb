{
 "cells": [
  {
   "cell_type": "code",
   "execution_count": 4,
   "id": "initial_id",
   "metadata": {
    "collapsed": true,
    "ExecuteTime": {
     "end_time": "2024-06-25T20:30:41.245649600Z",
     "start_time": "2024-06-25T20:30:41.225214100Z"
    }
   },
   "outputs": [],
   "source": [
    "import numpy\n",
    "import pandas as pd"
   ]
  },
  {
   "cell_type": "code",
   "execution_count": 5,
   "outputs": [],
   "source": [
    "df = pd.read_csv(\"../data/jlpt_vocab.csv\")\n",
    "df = df.rename(columns={\"JLPT Level\": \"JLPT\"})"
   ],
   "metadata": {
    "collapsed": false,
    "ExecuteTime": {
     "end_time": "2024-06-25T20:30:41.621494Z",
     "start_time": "2024-06-25T20:30:41.564872900Z"
    }
   },
   "id": "4401c7449a4767db"
  },
  {
   "cell_type": "code",
   "execution_count": 6,
   "outputs": [],
   "source": [
    "df = df.loc[(df[\"JLPT\"] == \"N5\") | (df[\"JLPT\"] == \"N4\")]"
   ],
   "metadata": {
    "collapsed": false,
    "ExecuteTime": {
     "end_time": "2024-06-25T20:30:41.918343300Z",
     "start_time": "2024-06-25T20:30:41.908014Z"
    }
   },
   "id": "332c4116e0011f98"
  },
  {
   "cell_type": "code",
   "execution_count": 7,
   "outputs": [
    {
     "data": {
      "text/plain": "6744     踏む\n6745     ～区\n6746    すっと\n6747     盗む\n6748     大抵\n       ... \n8125      私\n8126      私\n8127     渡す\n8128     渡る\n8129     悪い\nName: Original, Length: 1386, dtype: object"
     },
     "execution_count": 7,
     "metadata": {},
     "output_type": "execute_result"
    }
   ],
   "source": [
    "df.Original"
   ],
   "metadata": {
    "collapsed": false,
    "ExecuteTime": {
     "end_time": "2024-06-25T20:30:42.269042200Z",
     "start_time": "2024-06-25T20:30:42.255303100Z"
    }
   },
   "id": "6da85855aae451c0"
  },
  {
   "cell_type": "code",
   "execution_count": 8,
   "outputs": [],
   "source": [
    "kanji_set = set()"
   ],
   "metadata": {
    "collapsed": false,
    "ExecuteTime": {
     "end_time": "2024-06-25T20:30:43.803494200Z",
     "start_time": "2024-06-25T20:30:43.788556400Z"
    }
   },
   "id": "4bffb817bc3afbb9"
  },
  {
   "cell_type": "code",
   "execution_count": 9,
   "outputs": [],
   "source": [
    "for kanji in df.Original:\n",
    "    ls = list(kanji)\n",
    "    kanji_set.update(ls)"
   ],
   "metadata": {
    "collapsed": false,
    "ExecuteTime": {
     "end_time": "2024-06-25T20:30:44.310596400Z",
     "start_time": "2024-06-25T20:30:44.299183100Z"
    }
   },
   "id": "5b00ffc732440c06"
  },
  {
   "cell_type": "code",
   "execution_count": 10,
   "outputs": [
    {
     "data": {
      "text/plain": "{' ',\n '(',\n ')',\n ';',\n '、',\n '々',\n 'あ',\n 'い',\n 'う',\n 'え',\n 'お',\n 'か',\n 'が',\n 'き',\n 'ぎ',\n 'く',\n 'ぐ',\n 'け',\n 'げ',\n 'こ',\n 'ご',\n 'さ',\n 'ざ',\n 'し',\n 'じ',\n 'す',\n 'ず',\n 'せ',\n 'ぜ',\n 'そ',\n 'ぞ',\n 'た',\n 'だ',\n 'ち',\n 'っ',\n 'つ',\n 'て',\n 'で',\n 'と',\n 'ど',\n 'な',\n 'に',\n 'ぬ',\n 'ね',\n 'の',\n 'は',\n 'ば',\n 'ぱ',\n 'ひ',\n 'び',\n 'ぶ',\n 'べ',\n 'ほ',\n 'ま',\n 'み',\n 'む',\n 'め',\n 'も',\n 'ゃ',\n 'や',\n 'ゆ',\n 'ょ',\n 'よ',\n 'ら',\n 'り',\n 'る',\n 'れ',\n 'ろ',\n 'わ',\n 'ん',\n 'ァ',\n 'ア',\n 'ィ',\n 'イ',\n 'ウ',\n 'ェ',\n 'エ',\n 'ォ',\n 'オ',\n 'カ',\n 'ガ',\n 'キ',\n 'ギ',\n 'ク',\n 'グ',\n 'ケ',\n 'コ',\n 'ゴ',\n 'サ',\n 'シ',\n 'ジ',\n 'ス',\n 'ズ',\n 'セ',\n 'ゼ',\n 'ソ',\n 'タ',\n 'ダ',\n 'チ',\n 'ッ',\n 'ツ',\n 'テ',\n 'デ',\n 'ト',\n 'ド',\n 'ナ',\n 'ニ',\n 'ネ',\n 'ノ',\n 'ハ',\n 'バ',\n 'パ',\n 'ヒ',\n 'ビ',\n 'ピ',\n 'フ',\n 'ブ',\n 'プ',\n 'ベ',\n 'ペ',\n 'ホ',\n 'ボ',\n 'ポ',\n 'マ',\n 'ム',\n 'メ',\n 'ャ',\n 'ュ',\n 'ラ',\n 'リ',\n 'ル',\n 'レ',\n 'ロ',\n 'ワ',\n 'ン',\n 'ー',\n '一',\n '丁',\n '七',\n '万',\n '丈',\n '三',\n '上',\n '下',\n '不',\n '世',\n '両',\n '並',\n '中',\n '丸',\n '主',\n '久',\n '乗',\n '九',\n '乳',\n '乾',\n '予',\n '争',\n '事',\n '二',\n '五',\n '亡',\n '交',\n '人',\n '今',\n '介',\n '仕',\n '付',\n '代',\n '以',\n '仮',\n '休',\n '会',\n '伝',\n '伯',\n '伺',\n '似',\n '低',\n '住',\n '体',\n '何',\n '余',\n '作',\n '使',\n '例',\n '供',\n '便',\n '係',\n '個',\n '倍',\n '倒',\n '借',\n '値',\n '側',\n '傘',\n '備',\n '働',\n '僕',\n '億',\n '優',\n '元',\n '兄',\n '先',\n '光',\n '入',\n '全',\n '八',\n '公',\n '六',\n '具',\n '典',\n '内',\n '円',\n '冊',\n '再',\n '写',\n '冬',\n '冷',\n '凄',\n '出',\n '分',\n '切',\n '初',\n '別',\n '利',\n '則',\n '前',\n '割',\n '力',\n '勉',\n '動',\n '務',\n '勝',\n '勢',\n '勤',\n '匂',\n '包',\n '化',\n '北',\n '匹',\n '区',\n '医',\n '十',\n '千',\n '午',\n '半',\n '卒',\n '南',\n '単',\n '危',\n '卵',\n '厚',\n '原',\n '厳',\n '去',\n '参',\n '友',\n '反',\n '叔',\n '取',\n '受',\n '口',\n '古',\n '召',\n '可',\n '台',\n '叱',\n '史',\n '右',\n '号',\n '合',\n '同',\n '名',\n '向',\n '君',\n '吸',\n '吹',\n '呂',\n '周',\n '味',\n '呼',\n '命',\n '咲',\n '品',\n '員',\n '問',\n '喉',\n '喜',\n '喫',\n '嘘',\n '噌',\n '噛',\n '四',\n '回',\n '因',\n '団',\n '困',\n '図',\n '固',\n '国',\n '園',\n '土',\n '在',\n '地',\n '坂',\n '坊',\n '堂',\n '堅',\n '報',\n '場',\n '塗',\n '塩',\n '増',\n '壁',\n '壊',\n '声',\n '売',\n '変',\n '夏',\n '夕',\n '外',\n '多',\n '夜',\n '夢',\n '大',\n '天',\n '太',\n '夫',\n '失',\n '奥',\n '女',\n '好',\n '妹',\n '妻',\n '姉',\n '始',\n '娘',\n '婚',\n '婦',\n '嫌',\n '嬉',\n '嬢',\n '子',\n '字',\n '存',\n '季',\n '学',\n '宅',\n '守',\n '安',\n '官',\n '定',\n '客',\n '室',\n '家',\n '宿',\n '寂',\n '寄',\n '寒',\n '寝',\n '察',\n '寧',\n '寺',\n '対',\n '封',\n '専',\n '射',\n '将',\n '尋',\n '小',\n '少',\n '局',\n '居',\n '届',\n '屋',\n '展',\n '山',\n '岸',\n '島',\n '川',\n '工',\n '左',\n '差',\n '市',\n '布',\n '席',\n '帰',\n '常',\n '帽',\n '平',\n '年',\n '広',\n '床',\n '店',\n '度',\n '座',\n '庫',\n '庭',\n '廊',\n '建',\n '弁',\n '式',\n '引',\n '弟',\n '弱',\n '張',\n '強',\n '弾',\n '当',\n '形',\n '役',\n '彼',\n '待',\n '律',\n '後',\n '徒',\n '御',\n '復',\n '心',\n '必',\n '忘',\n '忙',\n '念',\n '怒',\n '怖',\n '思',\n '急',\n '性',\n '恥',\n '息',\n '悪',\n '悲',\n '意',\n '愛',\n '慣',\n '慮',\n '懸',\n '戦',\n '戸',\n '戻',\n '房',\n '所',\n '手',\n '打',\n '払',\n '承',\n '技',\n '投',\n '折',\n '抵',\n '押',\n '招',\n '拝',\n '拶',\n '拾',\n '持',\n '指',\n '挨',\n '捕',\n '捨',\n '掃',\n '授',\n '掛',\n '探',\n '換',\n '揺',\n '撮',\n '支',\n '放',\n '政',\n '故',\n '敗',\n '教',\n '散',\n '数',\n '文',\n '料',\n '新',\n '方',\n '旅',\n '族',\n '日',\n '早',\n '明',\n '易',\n '昔',\n '星',\n '映',\n '春',\n '昨',\n '是',\n '昼',\n '時',\n '晩',\n '普',\n '景',\n '晴',\n '暇',\n '暑',\n '暖',\n '暗',\n '暮',\n '曇',\n '曜',\n '曲',\n '書',\n '替',\n '最',\n '月',\n '有',\n '服',\n '朝',\n '木',\n '本',\n '机',\n '村',\n '束',\n '来',\n '杯',\n '東',\n '林',\n '枚',\n '果',\n '枝',\n '柔',\n '校',\n '格',\n '案',\n '棒',\n '棚',\n '森',\n '椅',\n '植',\n '業',\n '楽',\n '構',\n '様',\n '横',\n '橋',\n '機',\n '次',\n '欲',\n '歌',\n '止',\n '正',\n '歩',\n '歯',\n '歳',\n '歴',\n '死',\n '残',\n '段',\n '母',\n '毎',\n '比',\n '毛',\n '民',\n '気',\n '水',\n '汚',\n '池',\n '決',\n '汽',\n '沢',\n '河',\n '沸',\n '油',\n '治',\n '泊',\n '法',\n '泣',\n '泥',\n '注',\n '泳',\n '洋',\n '洗',\n '活',\n '浅',\n '浴',\n '海',\n '消',\n '涼',\n '深',\n '済',\n '渡',\n '温',\n '港',\n '湖',\n '湯',\n '準',\n '滑',\n '漢',\n '漫',\n '漬',\n '濡',\n '濯',\n '火',\n '灯',\n '灰',\n '点',\n '為',\n '無',\n '然',\n '焼',\n '熱',\n '父',\n '片',\n '牛',\n '物',\n '特',\n '犬',\n '狭',\n '猫',\n '玄',\n '珍',\n '理',\n '瓶',\n '甘',\n '生',\n '産',\n '用',\n '田',\n '由',\n '申',\n '男',\n '町',\n '画',\n '界',\n '留',\n '番',\n '畳',\n '疲',\n '病',\n '痛',\n '痩',\n '発',\n '登',\n '白',\n '百',\n '皆',\n '皿',\n '盗',\n '盛',\n '目',\n '直',\n '相',\n '看',\n '真',\n '眠',\n '眼',\n '着',\n '知',\n '短',\n '石',\n '砂',\n '研',\n '硬',\n '碗',\n '確',\n '磨',\n '礼',\n '社',\n '祈',\n '祖',\n '祝',\n '神',\n '祭',\n '私',\n '秋',\n '科',\n '移',\n '程',\n '究',\n '空',\n '窓',\n '立',\n '章',\n '競',\n '笑',\n '符',\n '筆',\n '等',\n '筒',\n '答',\n '箱',\n '箸',\n '節',\n '簡',\n '米',\n '糖',\n '糸',\n '約',\n '紅',\n '紙',\n '素',\n '細',\n '紹',\n '終',\n '組',\n '経',\n '結',\n '絡',\n '絵',\n '絹',\n '続',\n '綺',\n '綿',\n '緑',\n '緒',\n '線',\n '締',\n '練',\n '置',\n '美',\n '義',\n '習',\n '翻',\n '考',\n '者',\n '耳',\n '聞',\n '肉',\n '育',\n '背',\n '脚',\n '脱',\n '腕',\n '腹',\n '自',\n '致',\n '興',\n '舎',\n '舞',\n '舟',\n '色',\n '花',\n '若',\n '苦',\n '英',\n '茶',\n '草',\n '荷',\n '菓',\n '菜',\n '落',\n '葉',\n '蔵',\n '薄',\n '薬',\n '虫',\n '血',\n '行',\n '術',\n '表',\n '袋',\n '裏',\n '製',\n '複',\n '褒',\n '西',\n '要',\n '見',\n '規',\n '覚',\n '覧',\n '親',\n '角',\n '触',\n '言',\n '計',\n '記',\n '訪',\n '訳',\n '試',\n '話',\n '誌',\n '誕',\n '語',\n '説',\n '読',\n '誰',\n '課',\n '調',\n '談',\n '講',\n '謝',\n '警',\n '議',\n '護',\n '豚',\n '負',\n '財',\n '買',\n '貸',\n '貼',\n '貿',\n '質',\n '贈',\n '赤',\n '走',\n '起',\n '越',\n '趣',\n '足',\n '踊',\n '踏',\n '車',\n '軒',\n '転',\n '軽',\n '輩',\n '輪',\n '輸',\n '辛',\n '辞',\n '辺',\n '込',\n '迎',\n '近',\n '返',\n '退',\n '送',\n '逃',\n '途',\n '通',\n '速',\n '連',\n '週',\n '進',\n '遅',\n '遊',\n '運',\n '過',\n '道',\n '達',\n '違',\n '遠',\n '適',\n '選',\n '邪',\n '郊',\n '部',\n '郵',\n '都',\n '配',\n '酒',\n '醤',\n '重',\n '野',\n '金',\n '釣',\n '鉄',\n '鉛',\n '銀',\n '鍵',\n '鏡',\n '長',\n '門',\n '閉',\n '開',\n '間',\n '関',\n '降',\n '院',\n '除',\n '陰',\n '険',\n '隅',\n '階',\n '随',\n '際',\n '障',\n '隣',\n '集',\n '雑',\n '難',\n '雨',\n '雪',\n '雲',\n '零',\n '電',\n '震',\n '青',\n '静',\n '非',\n '面',\n '靴',\n '音',\n '頃',\n '頑',\n '頭',\n '頼',\n '題',\n '顔',\n '風',\n '飛',\n '食',\n '飯',\n '飲',\n '飴',\n '飾',\n '館',\n '首',\n '駅',\n '駐',\n '騒',\n '験',\n '驚',\n '高',\n '髪',\n '魔',\n '魚',\n '鳥',\n '鳴',\n '鶏',\n '鹸',\n '麗',\n '黄',\n '黒',\n '鼻',\n '～'}"
     },
     "execution_count": 10,
     "metadata": {},
     "output_type": "execute_result"
    }
   ],
   "source": [
    "kanji_set"
   ],
   "metadata": {
    "collapsed": false,
    "ExecuteTime": {
     "end_time": "2024-06-25T20:30:45.107014Z",
     "start_time": "2024-06-25T20:30:45.070268Z"
    }
   },
   "id": "23d97465904c6945"
  },
  {
   "cell_type": "code",
   "execution_count": 11,
   "outputs": [],
   "source": [
    "kanji = pd.read_feather(\"../data/speed_kanji.feather\")"
   ],
   "metadata": {
    "collapsed": false,
    "ExecuteTime": {
     "end_time": "2024-06-25T20:30:45.789105500Z",
     "start_time": "2024-06-25T20:30:45.731200Z"
    }
   },
   "id": "123320b0e5a846a5"
  },
  {
   "cell_type": "code",
   "execution_count": 12,
   "outputs": [],
   "source": [
    "total_set = set(kanji.kanji)"
   ],
   "metadata": {
    "collapsed": false,
    "ExecuteTime": {
     "end_time": "2024-06-25T20:30:46.701255500Z",
     "start_time": "2024-06-25T20:30:46.685938800Z"
    }
   },
   "id": "9a7c6b200d0221eb"
  },
  {
   "cell_type": "code",
   "execution_count": 13,
   "outputs": [
    {
     "data": {
      "text/plain": "{'档',\n '淹',\n '醵',\n '亢',\n '舘',\n '忸',\n '罒',\n '遞',\n '圮',\n '幐',\n '俁',\n '𦜝',\n '丶',\n '糶',\n '鄐',\n '史',\n '説',\n '惊',\n '盛',\n '焌',\n '鄜',\n '矗',\n '蟹',\n '螯',\n '搔',\n '層',\n '喩',\n '事',\n '瓞',\n '挂',\n '鍪',\n '馳',\n '塏',\n '景',\n '襖',\n '𨩃',\n '翬',\n '玢',\n '漸',\n '蔜',\n '見',\n '稠',\n '鐫',\n '歃',\n '𡧃',\n '光',\n '襞',\n '𣏐',\n '縉',\n '阽',\n '𣏟',\n '刱',\n '燜',\n '戡',\n '竛',\n '軻',\n '督',\n '醐',\n '暿',\n '朅',\n '鉸',\n '佘',\n '桷',\n '唍',\n '皟',\n '傢',\n '込',\n '鐂',\n '膁',\n '嗌',\n '騄',\n '匏',\n '瀘',\n '軃',\n '菖',\n '譎',\n '沺',\n '蛉',\n '睍',\n '杜',\n '榊',\n '猜',\n '虱',\n '卜',\n '楪',\n '鐵',\n '徢',\n '齊',\n '澵',\n '媱',\n '欫',\n '耞',\n '䇦',\n '婉',\n '鱭',\n '戢',\n '覓',\n '鴟',\n '慬',\n '漊',\n '痎',\n '釔',\n '鈘',\n '祥',\n '漄',\n '訐',\n '贎',\n '鼈',\n '炴',\n '切',\n '悦',\n '礦',\n '覶',\n '紽',\n '与',\n '冐',\n '碊',\n '閹',\n '瞋',\n '梩',\n '艪',\n '肬',\n '学',\n '揩',\n '好',\n '苙',\n '珍',\n '犉',\n '酛',\n '沙',\n '團',\n '篵',\n '𥒎',\n '躊',\n '煞',\n '鴕',\n '褕',\n '陁',\n '航',\n '嘯',\n '飧',\n '及',\n '湌',\n '鳰',\n '甑',\n '昖',\n '濰',\n '嗩',\n '規',\n '踳',\n '塍',\n '轟',\n '蝝',\n '𩹉',\n '塞',\n '甹',\n '鉦',\n '枢',\n '鯺',\n '拱',\n '佾',\n '跕',\n '袤',\n '慌',\n '泜',\n '甠',\n '菰',\n '漠',\n '斑',\n '薽',\n '煦',\n '闙',\n '帍',\n '阪',\n '啅',\n '癶',\n '秊',\n '跫',\n '隆',\n '譜',\n '羹',\n '甓',\n '梅',\n '錟',\n '凶',\n '厘',\n '捉',\n '唎',\n '區',\n '狢',\n '捬',\n '蛒',\n '揵',\n '銧',\n '屹',\n '泙',\n '臺',\n '倌',\n '袍',\n '脗',\n '騢',\n '郗',\n '匭',\n '𤢖',\n '詓',\n '悩',\n '矑',\n '曌',\n '矕',\n '奒',\n '於',\n '撫',\n '鎴',\n '竴',\n '憺',\n '箄',\n '茅',\n '纘',\n '鞖',\n '麭',\n '樔',\n '逄',\n '麹',\n '笭',\n '鬜',\n '螫',\n '膋',\n '哪',\n '灸',\n '縯',\n '鶱',\n '孺',\n '韇',\n '癨',\n '跖',\n '殊',\n '晹',\n '絚',\n '色',\n '攤',\n '宐',\n '閙',\n '汚',\n '佱',\n '鱞',\n '臧',\n '臝',\n '舴',\n '鯖',\n '崔',\n '巖',\n '睗',\n '翻',\n '駢',\n '椢',\n '斳',\n '勰',\n '䢵',\n '纚',\n '螋',\n '醁',\n '藡',\n '貮',\n '劷',\n '湖',\n '灣',\n '憠',\n '愉',\n '蚓',\n '忑',\n '醔',\n '痹',\n '葎',\n '眈',\n '迠',\n '鉂',\n '驋',\n '覇',\n '踞',\n '叚',\n '穠',\n '墢',\n '驊',\n '絣',\n '鏧',\n '悾',\n '腟',\n '駭',\n '歿',\n '婈',\n '蝡',\n '挭',\n '皐',\n '凪',\n '芬',\n '讁',\n '弄',\n '甯',\n '鵙',\n '昫',\n '槥',\n '庖',\n '燎',\n '痌',\n '嘰',\n '惓',\n '濳',\n '橒',\n '袨',\n '颮',\n '嚏',\n '桮',\n '昃',\n '柦',\n '咢',\n '繆',\n '棭',\n '魪',\n '莾',\n '踸',\n '帑',\n '煜',\n '膝',\n '樏',\n '椎',\n '悽',\n '栔',\n '惰',\n '鄯',\n '社',\n '樺',\n '化',\n '禛',\n '神',\n '刕',\n '奢',\n '髗',\n '暈',\n '髓',\n '䆴',\n '寽',\n '稲',\n '含',\n '鐶',\n '蚭',\n '胅',\n '剱',\n '䔈',\n '熠',\n '皸',\n '謋',\n '筆',\n '遢',\n '齡',\n '紭',\n '鳬',\n '豣',\n '湫',\n '炙',\n '誚',\n '戜',\n '魭',\n '杭',\n '詀',\n '韔',\n '鼔',\n '鞕',\n '鑠',\n '鏢',\n '鼏',\n '擽',\n '鈖',\n '顪',\n '剦',\n '勏',\n '原',\n '𩊱',\n '鎍',\n '陵',\n '莵',\n '揅',\n '倆',\n '蜞',\n '勐',\n '峴',\n '響',\n '翎',\n '苽',\n '桗',\n '睳',\n '坥',\n '把',\n '扐',\n '秤',\n '胹',\n '必',\n '谾',\n '脇',\n '頬',\n '刢',\n '鸇',\n '猶',\n '漐',\n '鳫',\n '爵',\n '飰',\n '齣',\n '茀',\n '丑',\n '隈',\n '楫',\n '鎩',\n '琀',\n '卥',\n '晘',\n '咩',\n '當',\n '慊',\n '輬',\n '逸',\n '狆',\n '顆',\n '暛',\n '檎',\n '乿',\n '発',\n '鑑',\n '綸',\n '眔',\n '鄶',\n '涽',\n '醎',\n '㤗',\n '䒾',\n '朜',\n '敠',\n '眠',\n '碚',\n '苚',\n '丫',\n '刼',\n '鱒',\n '棊',\n '繢',\n '乏',\n '譙',\n '贄',\n '癭',\n '渮',\n '匣',\n '晎',\n '描',\n '哇',\n '集',\n '礙',\n '挺',\n '斠',\n '膻',\n '鶏',\n '鳥',\n '涅',\n '蘐',\n '畬',\n '訓',\n '祥',\n '飶',\n '畑',\n '鬛',\n '阝',\n '潙',\n '除',\n '熹',\n '渹',\n '讖',\n '挓',\n '覧',\n '獬',\n '郡',\n '羞',\n '跴',\n '縗',\n '廟',\n '亶',\n '趙',\n '𤚥',\n '褶',\n '熊',\n '菌',\n '淦',\n '羆',\n '摜',\n '扜',\n '飩',\n '𩩲',\n '槃',\n '芋',\n '梦',\n '檰',\n '烱',\n '啠',\n '焰',\n '替',\n '褁',\n '潼',\n '揓',\n '扡',\n '蓄',\n '馰',\n '鶵',\n '俒',\n '巓',\n '弞',\n '薛',\n '众',\n '栾',\n '既',\n '血',\n '幸',\n '鮇',\n '噓',\n '碣',\n '戣',\n '眊',\n '耈',\n '証',\n '開',\n '砬',\n '您',\n '釿',\n '啇',\n '専',\n '礿',\n '擋',\n '逪',\n '鹺',\n '謀',\n '迋',\n '鍴',\n '軟',\n '武',\n '圠',\n '兌',\n '畽',\n '鵇',\n '鰒',\n '彁',\n '敝',\n '丣',\n '𡏄',\n '豔',\n '朮',\n '祩',\n '甩',\n '异',\n '簾',\n '鱏',\n '鏵',\n '騨',\n '疅',\n '𦁠',\n '君',\n '訔',\n '棶',\n '泔',\n '酲',\n '奣',\n '矠',\n '澍',\n '拂',\n '齖',\n '悋',\n '匰',\n '磟',\n '㮈',\n '肎',\n '癜',\n '𥇥',\n '燬',\n '朒',\n '澮',\n '暘',\n '紈',\n '螧',\n '肴',\n '鴝',\n '餐',\n '孃',\n '猯',\n '姄',\n '阴',\n '雄',\n '獼',\n '瞄',\n '頊',\n '搾',\n '纆',\n '穀',\n '挍',\n '斅',\n '箵',\n '鈾',\n '錵',\n '鮴',\n '斝',\n '鏄',\n '熮',\n '荄',\n '梟',\n '唵',\n '礠',\n '汫',\n '塐',\n '懏',\n '鞁',\n '辱',\n '侯',\n '钁',\n '薴',\n '傃',\n '魨',\n '插',\n '褰',\n '媻',\n '畡',\n '烖',\n '北',\n '倻',\n '茈',\n '萩',\n '毇',\n '抜',\n '抄',\n '唇',\n '愨',\n '巙',\n '呩',\n '乙',\n '禕',\n '紫',\n '鑜',\n '途',\n '狥',\n '襡',\n '甅',\n '劤',\n '踑',\n '騌',\n '思',\n '消',\n '麘',\n '瞻',\n '蓁',\n '牧',\n '闔',\n '遴',\n '樑',\n '𧚄',\n '𡌶',\n '䒳',\n '褱',\n '戫',\n '陽',\n '秠',\n '衒',\n '𠀋',\n '萍',\n '坌',\n '劻',\n '趲',\n '翼',\n '玭',\n '顯',\n '氵',\n '餦',\n '展',\n '尩',\n '勤',\n '絝',\n '䙁',\n '婥',\n '嵑',\n '顄',\n '鯸',\n '厦',\n '肚',\n '山',\n '納',\n '躰',\n '黶',\n '笱',\n '博',\n '旱',\n '夌',\n '愰',\n '剗',\n '闞',\n '畠',\n '皖',\n '毷',\n '眷',\n '鴂',\n '蟒',\n '渢',\n '寎',\n '首',\n '梔',\n '鵊',\n '廊',\n '瘧',\n '遑',\n '径',\n '蟄',\n '𠆢',\n '帋',\n '撬',\n '樳',\n '麇',\n '璚',\n '蕢',\n '聲',\n '㾮',\n '撚',\n '鬺',\n '舉',\n '殣',\n '飭',\n '瀁',\n '驒',\n '幹',\n '彈',\n '麞',\n '檣',\n '拄',\n '趵',\n '槲',\n '醓',\n '憊',\n '醋',\n '鶴',\n '片',\n '鞲',\n '巳',\n '鮚',\n '踝',\n '㕣',\n '鄲',\n '鳧',\n '詇',\n '亹',\n '掾',\n '幢',\n '覺',\n '僌',\n '汴',\n '栁',\n '柅',\n '麾',\n '櫐',\n '櫓',\n '堈',\n '那',\n '啀',\n '坷',\n '捵',\n '劑',\n '𣳾',\n '迵',\n '鶻',\n '濵',\n '韘',\n '混',\n '𥻘',\n '磬',\n '爓',\n '畐',\n '䯨',\n '墓',\n '緒',\n '鵈',\n '躝',\n '敏',\n '銜',\n '鷺',\n '鄞',\n '相',\n '桰',\n '爛',\n '濫',\n '疂',\n '庬',\n '晼',\n '彡',\n '㴑',\n '鈰',\n '棍',\n '伀',\n '戛',\n '㝡',\n '烜',\n '芝',\n '鰏',\n '詒',\n '痧',\n '漌',\n '虎',\n '臭',\n '偪',\n '佺',\n '巃',\n '催',\n '医',\n '匝',\n '蝋',\n '蝎',\n '頣',\n '塢',\n '軆',\n '悝',\n '舅',\n '觩',\n '暾',\n '晄',\n '勍',\n '褜',\n '殨',\n '誹',\n '剥',\n '輯',\n '軈',\n '捱',\n '隥',\n '州',\n '疁',\n '碔',\n '暑',\n '䐢',\n '痩',\n '曁',\n '髴',\n '𨴐',\n '雉',\n '羏',\n '阡',\n '詮',\n '芛',\n '駕',\n '窃',\n '貴',\n '茳',\n '禹',\n '瓴',\n '駙',\n '鴰',\n '慈',\n '竃',\n '嵩',\n '鄕',\n '橡',\n '夿',\n '陝',\n '鳲',\n '槾',\n '闘',\n '喑',\n '勘',\n '護',\n '亳',\n '藐',\n '蛀',\n '舩',\n '臛',\n '砝',\n '耒',\n '邰',\n '汯',\n '𣇃',\n '夣',\n '吸',\n '羈',\n '儨',\n '荃',\n '濇',\n '翮',\n '階',\n '瞪',\n '彍',\n '艶',\n '輻',\n '配',\n '彬',\n '卷',\n '努',\n '耰',\n '泭',\n '荂',\n '膾',\n '旿',\n '吡',\n '傲',\n '擭',\n '曇',\n '箒',\n '羀',\n '溜',\n '餅',\n '搤',\n '顧',\n '淂',\n '段',\n '鉛',\n '悠',\n '肸',\n '椦',\n '蒿',\n '堡',\n '拪',\n '溝',\n '禜',\n '㽷',\n '嫌',\n '蜟',\n '濛',\n '醰',\n '五',\n '曲',\n '㕮',\n '扼',\n '簌',\n '寫',\n '榭',\n '辛',\n '鱔',\n '傱',\n '該',\n '埾',\n '艉',\n '橤',\n '指',\n '隣',\n '坢',\n '猂',\n '舏',\n '坪',\n '忌',\n '隤',\n '㐬',\n '蔶',\n '理',\n '楷',\n '翣',\n '亂',\n '盌',\n '鎶',\n '洋',\n '宰',\n '燠',\n '灄',\n '殾',\n '疳',\n '夔',\n '燚',\n '襛',\n '防',\n '僅',\n '罡',\n '髱',\n '固',\n '侌',\n '樝',\n '𤎼',\n '悗',\n '燔',\n '俑',\n '痙',\n '贃',\n '仡',\n '叧',\n '匈',\n '憎',\n '萋',\n '康',\n '鴴',\n '廱',\n '瞌',\n '嶤',\n '痠',\n '九',\n '尞',\n '譁',\n '僧',\n '盱',\n '瞳',\n '疙',\n '値',\n '唯',\n '辤',\n '緬',\n '浴',\n '啘',\n '芖',\n ...}"
     },
     "execution_count": 13,
     "metadata": {},
     "output_type": "execute_result"
    }
   ],
   "source": [
    "total_set"
   ],
   "metadata": {
    "collapsed": false,
    "ExecuteTime": {
     "end_time": "2024-06-25T20:30:47.270553300Z",
     "start_time": "2024-06-25T20:30:47.253003100Z"
    }
   },
   "id": "836e2770c935210c"
  },
  {
   "cell_type": "code",
   "execution_count": 14,
   "outputs": [],
   "source": [
    "intersection_set = total_set.intersection(kanji_set)"
   ],
   "metadata": {
    "collapsed": false,
    "ExecuteTime": {
     "end_time": "2024-06-25T20:30:48.349190600Z",
     "start_time": "2024-06-25T20:30:48.336073100Z"
    }
   },
   "id": "c3f54a613c482c9a"
  },
  {
   "cell_type": "code",
   "execution_count": 15,
   "outputs": [
    {
     "data": {
      "text/plain": "{'一',\n '丁',\n '七',\n '万',\n '丈',\n '三',\n '上',\n '下',\n '不',\n '世',\n '両',\n '並',\n '中',\n '丸',\n '主',\n '久',\n '乗',\n '九',\n '乳',\n '乾',\n '予',\n '争',\n '事',\n '二',\n '五',\n '亡',\n '交',\n '人',\n '今',\n '介',\n '仕',\n '付',\n '代',\n '以',\n '仮',\n '休',\n '会',\n '伝',\n '伯',\n '伺',\n '似',\n '低',\n '住',\n '体',\n '何',\n '余',\n '作',\n '使',\n '例',\n '供',\n '便',\n '係',\n '個',\n '倍',\n '倒',\n '借',\n '値',\n '側',\n '傘',\n '備',\n '働',\n '僕',\n '億',\n '優',\n '元',\n '兄',\n '先',\n '光',\n '入',\n '全',\n '八',\n '公',\n '六',\n '具',\n '典',\n '内',\n '円',\n '冊',\n '再',\n '写',\n '冬',\n '冷',\n '凄',\n '出',\n '分',\n '切',\n '初',\n '別',\n '利',\n '則',\n '前',\n '割',\n '力',\n '勉',\n '動',\n '務',\n '勝',\n '勢',\n '勤',\n '匂',\n '包',\n '化',\n '北',\n '匹',\n '区',\n '医',\n '十',\n '千',\n '午',\n '半',\n '卒',\n '南',\n '単',\n '危',\n '卵',\n '厚',\n '原',\n '厳',\n '去',\n '参',\n '友',\n '反',\n '叔',\n '取',\n '受',\n '口',\n '古',\n '召',\n '可',\n '台',\n '叱',\n '史',\n '右',\n '号',\n '合',\n '同',\n '名',\n '向',\n '君',\n '吸',\n '吹',\n '呂',\n '周',\n '味',\n '呼',\n '命',\n '咲',\n '品',\n '員',\n '問',\n '喉',\n '喜',\n '喫',\n '嘘',\n '噌',\n '噛',\n '四',\n '回',\n '因',\n '団',\n '困',\n '図',\n '固',\n '国',\n '園',\n '土',\n '在',\n '地',\n '坂',\n '坊',\n '堂',\n '堅',\n '報',\n '場',\n '塗',\n '塩',\n '増',\n '壁',\n '壊',\n '声',\n '売',\n '変',\n '夏',\n '夕',\n '外',\n '多',\n '夜',\n '夢',\n '大',\n '天',\n '太',\n '夫',\n '失',\n '奥',\n '女',\n '好',\n '妹',\n '妻',\n '姉',\n '始',\n '娘',\n '婚',\n '婦',\n '嫌',\n '嬉',\n '嬢',\n '子',\n '字',\n '存',\n '季',\n '学',\n '宅',\n '守',\n '安',\n '官',\n '定',\n '客',\n '室',\n '家',\n '宿',\n '寂',\n '寄',\n '寒',\n '寝',\n '察',\n '寧',\n '寺',\n '対',\n '封',\n '専',\n '射',\n '将',\n '尋',\n '小',\n '少',\n '局',\n '居',\n '届',\n '屋',\n '展',\n '山',\n '岸',\n '島',\n '川',\n '工',\n '左',\n '差',\n '市',\n '布',\n '席',\n '帰',\n '常',\n '帽',\n '平',\n '年',\n '広',\n '床',\n '店',\n '度',\n '座',\n '庫',\n '庭',\n '廊',\n '建',\n '弁',\n '式',\n '引',\n '弟',\n '弱',\n '張',\n '強',\n '弾',\n '当',\n '形',\n '役',\n '彼',\n '待',\n '律',\n '後',\n '徒',\n '御',\n '復',\n '心',\n '必',\n '忘',\n '忙',\n '念',\n '怒',\n '怖',\n '思',\n '急',\n '性',\n '恥',\n '息',\n '悪',\n '悲',\n '意',\n '愛',\n '慣',\n '慮',\n '懸',\n '戦',\n '戸',\n '戻',\n '房',\n '所',\n '手',\n '打',\n '払',\n '承',\n '技',\n '投',\n '折',\n '抵',\n '押',\n '招',\n '拝',\n '拶',\n '拾',\n '持',\n '指',\n '挨',\n '捕',\n '捨',\n '掃',\n '授',\n '掛',\n '探',\n '換',\n '揺',\n '撮',\n '支',\n '放',\n '政',\n '故',\n '敗',\n '教',\n '散',\n '数',\n '文',\n '料',\n '新',\n '方',\n '旅',\n '族',\n '日',\n '早',\n '明',\n '易',\n '昔',\n '星',\n '映',\n '春',\n '昨',\n '是',\n '昼',\n '時',\n '晩',\n '普',\n '景',\n '晴',\n '暇',\n '暑',\n '暖',\n '暗',\n '暮',\n '曇',\n '曜',\n '曲',\n '書',\n '替',\n '最',\n '月',\n '有',\n '服',\n '朝',\n '木',\n '本',\n '机',\n '村',\n '束',\n '来',\n '杯',\n '東',\n '林',\n '枚',\n '果',\n '枝',\n '柔',\n '校',\n '格',\n '案',\n '棒',\n '棚',\n '森',\n '椅',\n '植',\n '業',\n '楽',\n '構',\n '様',\n '横',\n '橋',\n '機',\n '次',\n '欲',\n '歌',\n '止',\n '正',\n '歩',\n '歯',\n '歳',\n '歴',\n '死',\n '残',\n '段',\n '母',\n '毎',\n '比',\n '毛',\n '民',\n '気',\n '水',\n '汚',\n '池',\n '決',\n '汽',\n '沢',\n '河',\n '沸',\n '油',\n '治',\n '泊',\n '法',\n '泣',\n '泥',\n '注',\n '泳',\n '洋',\n '洗',\n '活',\n '浅',\n '浴',\n '海',\n '消',\n '涼',\n '深',\n '済',\n '渡',\n '温',\n '港',\n '湖',\n '湯',\n '準',\n '滑',\n '漢',\n '漫',\n '漬',\n '濡',\n '濯',\n '火',\n '灯',\n '灰',\n '点',\n '為',\n '無',\n '然',\n '焼',\n '熱',\n '父',\n '片',\n '牛',\n '物',\n '特',\n '犬',\n '狭',\n '猫',\n '玄',\n '珍',\n '理',\n '瓶',\n '甘',\n '生',\n '産',\n '用',\n '田',\n '由',\n '申',\n '男',\n '町',\n '画',\n '界',\n '留',\n '番',\n '畳',\n '疲',\n '病',\n '痛',\n '痩',\n '発',\n '登',\n '白',\n '百',\n '皆',\n '皿',\n '盗',\n '盛',\n '目',\n '直',\n '相',\n '看',\n '真',\n '眠',\n '眼',\n '着',\n '知',\n '短',\n '石',\n '砂',\n '研',\n '硬',\n '碗',\n '確',\n '磨',\n '礼',\n '社',\n '祈',\n '祖',\n '祝',\n '神',\n '祭',\n '私',\n '秋',\n '科',\n '移',\n '程',\n '究',\n '空',\n '窓',\n '立',\n '章',\n '競',\n '笑',\n '符',\n '筆',\n '等',\n '筒',\n '答',\n '箱',\n '箸',\n '節',\n '簡',\n '米',\n '糖',\n '糸',\n '約',\n '紅',\n '紙',\n '素',\n '細',\n '紹',\n '終',\n '組',\n '経',\n '結',\n '絡',\n '絵',\n '絹',\n '続',\n '綺',\n '綿',\n '緑',\n '緒',\n '線',\n '締',\n '練',\n '置',\n '美',\n '義',\n '習',\n '翻',\n '考',\n '者',\n '耳',\n '聞',\n '肉',\n '育',\n '背',\n '脚',\n '脱',\n '腕',\n '腹',\n '自',\n '致',\n '興',\n '舎',\n '舞',\n '舟',\n '色',\n '花',\n '若',\n '苦',\n '英',\n '茶',\n '草',\n '荷',\n '菓',\n '菜',\n '落',\n '葉',\n '蔵',\n '薄',\n '薬',\n '虫',\n '血',\n '行',\n '術',\n '表',\n '袋',\n '裏',\n '製',\n '複',\n '褒',\n '西',\n '要',\n '見',\n '規',\n '覚',\n '覧',\n '親',\n '角',\n '触',\n '言',\n '計',\n '記',\n '訪',\n '訳',\n '試',\n '話',\n '誌',\n '誕',\n '語',\n '説',\n '読',\n '誰',\n '課',\n '調',\n '談',\n '講',\n '謝',\n '警',\n '議',\n '護',\n '豚',\n '負',\n '財',\n '買',\n '貸',\n '貼',\n '貿',\n '質',\n '贈',\n '赤',\n '走',\n '起',\n '越',\n '趣',\n '足',\n '踊',\n '踏',\n '車',\n '軒',\n '転',\n '軽',\n '輩',\n '輪',\n '輸',\n '辛',\n '辞',\n '辺',\n '込',\n '迎',\n '近',\n '返',\n '退',\n '送',\n '逃',\n '途',\n '通',\n '速',\n '連',\n '週',\n '進',\n '遅',\n '遊',\n '運',\n '過',\n '道',\n '達',\n '違',\n '遠',\n '適',\n '選',\n '邪',\n '郊',\n '部',\n '郵',\n '都',\n '配',\n '酒',\n '醤',\n '重',\n '野',\n '金',\n '釣',\n '鉄',\n '鉛',\n '銀',\n '鍵',\n '鏡',\n '長',\n '門',\n '閉',\n '開',\n '間',\n '関',\n '降',\n '院',\n '除',\n '陰',\n '険',\n '隅',\n '階',\n '随',\n '際',\n '障',\n '隣',\n '集',\n '雑',\n '難',\n '雨',\n '雪',\n '雲',\n '零',\n '電',\n '震',\n '青',\n '静',\n '非',\n '面',\n '靴',\n '音',\n '頃',\n '頑',\n '頭',\n '頼',\n '題',\n '顔',\n '風',\n '飛',\n '食',\n '飯',\n '飲',\n '飴',\n '飾',\n '館',\n '首',\n '駅',\n '駐',\n '騒',\n '験',\n '驚',\n '高',\n '髪',\n '魔',\n '魚',\n '鳥',\n '鳴',\n '鶏',\n '鹸',\n '麗',\n '黄',\n '黒',\n '鼻'}"
     },
     "execution_count": 15,
     "metadata": {},
     "output_type": "execute_result"
    }
   ],
   "source": [
    "intersection_set"
   ],
   "metadata": {
    "collapsed": false,
    "ExecuteTime": {
     "end_time": "2024-06-25T20:30:48.990031Z",
     "start_time": "2024-06-25T20:30:48.951766500Z"
    }
   },
   "id": "1639f0f7e0d0a432"
  },
  {
   "cell_type": "code",
   "execution_count": 16,
   "outputs": [],
   "source": [
    "essential_kanji = pd.read_feather(\"../data/essential_kanji.feather\")"
   ],
   "metadata": {
    "collapsed": false,
    "ExecuteTime": {
     "end_time": "2024-06-25T20:30:49.822054400Z",
     "start_time": "2024-06-25T20:30:49.746465300Z"
    }
   },
   "id": "6b36b2f7a12e43e5"
  },
  {
   "cell_type": "code",
   "execution_count": 23,
   "outputs": [],
   "source": [
    "chosen = essential_kanji.loc[essential_kanji.kanji.isin(intersection_set)]"
   ],
   "metadata": {
    "collapsed": false,
    "ExecuteTime": {
     "end_time": "2024-06-25T20:35:21.945958300Z",
     "start_time": "2024-06-25T20:35:21.915273100Z"
    }
   },
   "id": "3e6c2dddbd843a62"
  },
  {
   "cell_type": "code",
   "execution_count": 24,
   "outputs": [
    {
     "data": {
      "text/plain": "kanji            0\nstrokes          0\ngrade            5\nfreq             6\njlpt_new        26\nmeanings         0\nreadings_on      0\nreadings_kun     0\ndtype: int64"
     },
     "execution_count": 24,
     "metadata": {},
     "output_type": "execute_result"
    }
   ],
   "source": [
    "chosen.isna().sum()"
   ],
   "metadata": {
    "collapsed": false,
    "ExecuteTime": {
     "end_time": "2024-06-25T20:35:22.421883500Z",
     "start_time": "2024-06-25T20:35:22.408101600Z"
    }
   },
   "id": "14856a834df72159"
  },
  {
   "cell_type": "code",
   "execution_count": 35,
   "outputs": [
    {
     "name": "stdout",
     "output_type": "stream",
     "text": [
      "kanji           object\n",
      "strokes          int64\n",
      "grade            int64\n",
      "freq             int64\n",
      "jlpt_new         int64\n",
      "meanings        object\n",
      "readings_on     object\n",
      "readings_kun    object\n",
      "dtype: object\n"
     ]
    }
   ],
   "source": [
    "df = chosen.copy()\n",
    "df['grade'] = df['grade'].fillna(0).astype('int64', errors='ignore')\n",
    "df['jlpt_new'] = df['jlpt_new'].fillna(0).astype('int64', errors='ignore')\n",
    "df['freq'] = df['freq'].fillna(0).astype('int64', errors='ignore')\n",
    "print(df.dtypes)"
   ],
   "metadata": {
    "collapsed": false,
    "ExecuteTime": {
     "end_time": "2024-06-25T20:41:00.099201500Z",
     "start_time": "2024-06-25T20:41:00.070811600Z"
    }
   },
   "id": "8ec0b4e7b634f796"
  },
  {
   "cell_type": "code",
   "execution_count": 40,
   "outputs": [
    {
     "data": {
      "text/plain": "  kanji  strokes  grade  freq  jlpt_new                    meanings  \\\n0     一        1      1     2         5   [One, One Radical (no.1)]   \n1     二        2      1     9         5  [Two, Two Radical (no. 7)]   \n2     九        2      1    55         5                      [Nine]   \n3     七        2      1   115         5                     [Seven]   \n4     人        2      1     5         5                    [Person]   \n\n  readings_on      readings_kun  \n0    [いち, いつ]       [ひと-, ひと.つ]  \n1      [に, じ]  [ふた, ふた.つ, ふたたび]  \n2    [きゅう, く]      [ここの, ここの.つ]  \n3        [しち]    [なな, なな.つ, なの]  \n4    [じん, にん]      [ひと, -り, -と]  ",
      "text/html": "<div>\n<style scoped>\n    .dataframe tbody tr th:only-of-type {\n        vertical-align: middle;\n    }\n\n    .dataframe tbody tr th {\n        vertical-align: top;\n    }\n\n    .dataframe thead th {\n        text-align: right;\n    }\n</style>\n<table border=\"1\" class=\"dataframe\">\n  <thead>\n    <tr style=\"text-align: right;\">\n      <th></th>\n      <th>kanji</th>\n      <th>strokes</th>\n      <th>grade</th>\n      <th>freq</th>\n      <th>jlpt_new</th>\n      <th>meanings</th>\n      <th>readings_on</th>\n      <th>readings_kun</th>\n    </tr>\n  </thead>\n  <tbody>\n    <tr>\n      <th>0</th>\n      <td>一</td>\n      <td>1</td>\n      <td>1</td>\n      <td>2</td>\n      <td>5</td>\n      <td>[One, One Radical (no.1)]</td>\n      <td>[いち, いつ]</td>\n      <td>[ひと-, ひと.つ]</td>\n    </tr>\n    <tr>\n      <th>1</th>\n      <td>二</td>\n      <td>2</td>\n      <td>1</td>\n      <td>9</td>\n      <td>5</td>\n      <td>[Two, Two Radical (no. 7)]</td>\n      <td>[に, じ]</td>\n      <td>[ふた, ふた.つ, ふたたび]</td>\n    </tr>\n    <tr>\n      <th>2</th>\n      <td>九</td>\n      <td>2</td>\n      <td>1</td>\n      <td>55</td>\n      <td>5</td>\n      <td>[Nine]</td>\n      <td>[きゅう, く]</td>\n      <td>[ここの, ここの.つ]</td>\n    </tr>\n    <tr>\n      <th>3</th>\n      <td>七</td>\n      <td>2</td>\n      <td>1</td>\n      <td>115</td>\n      <td>5</td>\n      <td>[Seven]</td>\n      <td>[しち]</td>\n      <td>[なな, なな.つ, なの]</td>\n    </tr>\n    <tr>\n      <th>4</th>\n      <td>人</td>\n      <td>2</td>\n      <td>1</td>\n      <td>5</td>\n      <td>5</td>\n      <td>[Person]</td>\n      <td>[じん, にん]</td>\n      <td>[ひと, -り, -と]</td>\n    </tr>\n  </tbody>\n</table>\n</div>"
     },
     "execution_count": 40,
     "metadata": {},
     "output_type": "execute_result"
    }
   ],
   "source": [
    "df.head()"
   ],
   "metadata": {
    "collapsed": false,
    "ExecuteTime": {
     "end_time": "2024-06-25T20:42:39.777480100Z",
     "start_time": "2024-06-25T20:42:39.758846600Z"
    }
   },
   "id": "8687585517699ebd"
  },
  {
   "cell_type": "code",
   "execution_count": 52,
   "outputs": [],
   "source": [
    "df = df.rename(columns={\"JLPT\": \"jlpt\"})"
   ],
   "metadata": {
    "collapsed": false,
    "ExecuteTime": {
     "end_time": "2024-06-25T20:44:10.705937400Z",
     "start_time": "2024-06-25T20:44:10.679322900Z"
    }
   },
   "id": "6c94727ee18cd249"
  },
  {
   "cell_type": "code",
   "execution_count": 53,
   "outputs": [
    {
     "data": {
      "text/plain": "  kanji  strokes  grade  freq  jlpt                    meanings readings_on  \\\n0     一        1      1     2     5   [One, One Radical (no.1)]    [いち, いつ]   \n1     二        2      1     9     5  [Two, Two Radical (no. 7)]      [に, じ]   \n2     九        2      1    55     5                      [Nine]    [きゅう, く]   \n3     七        2      1   115     5                     [Seven]        [しち]   \n4     人        2      1     5     5                    [Person]    [じん, にん]   \n\n       readings_kun  \n0       [ひと-, ひと.つ]  \n1  [ふた, ふた.つ, ふたたび]  \n2      [ここの, ここの.つ]  \n3    [なな, なな.つ, なの]  \n4      [ひと, -り, -と]  ",
      "text/html": "<div>\n<style scoped>\n    .dataframe tbody tr th:only-of-type {\n        vertical-align: middle;\n    }\n\n    .dataframe tbody tr th {\n        vertical-align: top;\n    }\n\n    .dataframe thead th {\n        text-align: right;\n    }\n</style>\n<table border=\"1\" class=\"dataframe\">\n  <thead>\n    <tr style=\"text-align: right;\">\n      <th></th>\n      <th>kanji</th>\n      <th>strokes</th>\n      <th>grade</th>\n      <th>freq</th>\n      <th>jlpt</th>\n      <th>meanings</th>\n      <th>readings_on</th>\n      <th>readings_kun</th>\n    </tr>\n  </thead>\n  <tbody>\n    <tr>\n      <th>0</th>\n      <td>一</td>\n      <td>1</td>\n      <td>1</td>\n      <td>2</td>\n      <td>5</td>\n      <td>[One, One Radical (no.1)]</td>\n      <td>[いち, いつ]</td>\n      <td>[ひと-, ひと.つ]</td>\n    </tr>\n    <tr>\n      <th>1</th>\n      <td>二</td>\n      <td>2</td>\n      <td>1</td>\n      <td>9</td>\n      <td>5</td>\n      <td>[Two, Two Radical (no. 7)]</td>\n      <td>[に, じ]</td>\n      <td>[ふた, ふた.つ, ふたたび]</td>\n    </tr>\n    <tr>\n      <th>2</th>\n      <td>九</td>\n      <td>2</td>\n      <td>1</td>\n      <td>55</td>\n      <td>5</td>\n      <td>[Nine]</td>\n      <td>[きゅう, く]</td>\n      <td>[ここの, ここの.つ]</td>\n    </tr>\n    <tr>\n      <th>3</th>\n      <td>七</td>\n      <td>2</td>\n      <td>1</td>\n      <td>115</td>\n      <td>5</td>\n      <td>[Seven]</td>\n      <td>[しち]</td>\n      <td>[なな, なな.つ, なの]</td>\n    </tr>\n    <tr>\n      <th>4</th>\n      <td>人</td>\n      <td>2</td>\n      <td>1</td>\n      <td>5</td>\n      <td>5</td>\n      <td>[Person]</td>\n      <td>[じん, にん]</td>\n      <td>[ひと, -り, -と]</td>\n    </tr>\n  </tbody>\n</table>\n</div>"
     },
     "execution_count": 53,
     "metadata": {},
     "output_type": "execute_result"
    }
   ],
   "source": [
    "df.head()"
   ],
   "metadata": {
    "collapsed": false,
    "ExecuteTime": {
     "end_time": "2024-06-25T20:44:11.087203900Z",
     "start_time": "2024-06-25T20:44:11.025263Z"
    }
   },
   "id": "de6294ceadd4a738"
  },
  {
   "cell_type": "code",
   "execution_count": 54,
   "outputs": [],
   "source": [
    "def ndarray_to_comma_string(array):\n",
    "    # Flatten the array (if not already 1D)\n",
    "    flattened_array = array.flatten()\n",
    "    # Convert to a list\n",
    "    array_list = flattened_array.tolist()\n",
    "    # Convert each element to a string and join with commas\n",
    "    comma_separated_string = ', '.join(map(str, array_list))\n",
    "    return comma_separated_string"
   ],
   "metadata": {
    "collapsed": false,
    "ExecuteTime": {
     "end_time": "2024-06-25T20:44:16.144005900Z",
     "start_time": "2024-06-25T20:44:16.124215800Z"
    }
   },
   "id": "9a4be8928ccbe42c"
  },
  {
   "cell_type": "code",
   "execution_count": 55,
   "outputs": [],
   "source": [
    "def escape_quotes(input_string):\n",
    "    # Escape single and double quotes\n",
    "    escaped_string = input_string.replace('[', '').replace(']', '')\n",
    "    escaped_string = escaped_string.replace('\"', '\\\\\"').replace(\"'\", \"\\\\'\")\n",
    "    return escaped_string\n",
    "\n",
    "def cypher_transform(row):\n",
    "    import numpy\n",
    "    cypher = ':KANJI{'\n",
    "    for col in row.keys()[:-1]:\n",
    "        if type(row[col]) == numpy.ndarray:\n",
    "            cypher = cypher + col.lower() + \":\\\"\" + escape_quotes(ndarray_to_comma_string(row[col])) + \"\\\", \"\n",
    "        else:\n",
    "            cypher = cypher + col.lower() + \":\\\"\" + escape_quotes(str(row[col])) + \"\\\", \"\n",
    "    if type(row[row.keys()[-1]]) == numpy.ndarray:\n",
    "        cypher = cypher + row.keys()[-1].lower() + \":\\\"\" + escape_quotes(ndarray_to_comma_string(row[row.keys()[-1]])) + \"\\\"}\"\n",
    "    else:\n",
    "        cypher = cypher + row.keys()[-1].lower() + \":\\\"\" + escape_quotes(ndarray_to_comma_string(row[row.keys()[-1]])) + \"\\\"}\"\n",
    "    return cypher"
   ],
   "metadata": {
    "collapsed": false,
    "ExecuteTime": {
     "end_time": "2024-06-25T20:44:16.537694800Z",
     "start_time": "2024-06-25T20:44:16.511377400Z"
    }
   },
   "id": "d5638ae7068d21aa"
  },
  {
   "cell_type": "code",
   "execution_count": 56,
   "outputs": [],
   "source": [
    "series = df.apply(cypher_transform, axis=1)"
   ],
   "metadata": {
    "collapsed": false,
    "ExecuteTime": {
     "end_time": "2024-06-25T20:44:17.496885500Z",
     "start_time": "2024-06-25T20:44:17.447441900Z"
    }
   },
   "id": "d468b9f11cf652f9"
  },
  {
   "cell_type": "code",
   "execution_count": 57,
   "outputs": [
    {
     "data": {
      "text/plain": "0       :KANJI{kanji:\"一\", strokes:\"1\", grade:\"1\", freq...\n1       :KANJI{kanji:\"二\", strokes:\"2\", grade:\"1\", freq...\n2       :KANJI{kanji:\"九\", strokes:\"2\", grade:\"1\", freq...\n3       :KANJI{kanji:\"七\", strokes:\"2\", grade:\"1\", freq...\n4       :KANJI{kanji:\"人\", strokes:\"2\", grade:\"1\", freq...\n                              ...                        \n2498    :KANJI{kanji:\"凄\", strokes:\"10\", grade:\"8\", fre...\n2541    :KANJI{kanji:\"痩\", strokes:\"12\", grade:\"8\", fre...\n2707    :KANJI{kanji:\"匂\", strokes:\"4\", grade:\"8\", freq...\n2711    :KANJI{kanji:\"濡\", strokes:\"17\", grade:\"9\", fre...\n2976    :KANJI{kanji:\"碗\", strokes:\"13\", grade:\"9\", fre...\nLength: 784, dtype: object"
     },
     "execution_count": 57,
     "metadata": {},
     "output_type": "execute_result"
    }
   ],
   "source": [
    "series"
   ],
   "metadata": {
    "collapsed": false,
    "ExecuteTime": {
     "end_time": "2024-06-25T20:44:17.995628200Z",
     "start_time": "2024-06-25T20:44:17.984052800Z"
    }
   },
   "id": "36fbb1df86ebfda9"
  },
  {
   "cell_type": "code",
   "execution_count": 58,
   "outputs": [
    {
     "data": {
      "text/plain": "':KANJI{kanji:\"耳\", strokes:\"6\", grade:\"1\", freq:\"1328\", jlpt:\"3\", meanings:\"Ear\", readings_on:\"じ\", readings_kun:\"みみ\"}'"
     },
     "execution_count": 58,
     "metadata": {},
     "output_type": "execute_result"
    }
   ],
   "source": [
    "series.iloc[100]"
   ],
   "metadata": {
    "collapsed": false,
    "ExecuteTime": {
     "end_time": "2024-06-25T20:44:18.666885500Z",
     "start_time": "2024-06-25T20:44:18.653372200Z"
    }
   },
   "id": "6f71e8a7e65e0f17"
  },
  {
   "cell_type": "code",
   "execution_count": 59,
   "outputs": [],
   "source": [
    "def format_and_save_series(series, filename):\n",
    "    with open(filename, 'w', encoding='utf-8') as file:\n",
    "        file.write(\"CREATE\\n\")\n",
    "        for s in series:\n",
    "            file.write(f\"({s}),\\n\")"
   ],
   "metadata": {
    "collapsed": false,
    "ExecuteTime": {
     "end_time": "2024-06-25T20:44:28.949584700Z",
     "start_time": "2024-06-25T20:44:28.930280100Z"
    }
   },
   "id": "4d95b44daeca4f4c"
  },
  {
   "cell_type": "code",
   "execution_count": 60,
   "outputs": [],
   "source": [
    "format_and_save_series(series, \"kanji_cypher.txt\")"
   ],
   "metadata": {
    "collapsed": false,
    "ExecuteTime": {
     "end_time": "2024-06-25T20:44:29.160411500Z",
     "start_time": "2024-06-25T20:44:29.149118400Z"
    }
   },
   "id": "7ddee8ad096848a5"
  },
  {
   "cell_type": "code",
   "execution_count": null,
   "outputs": [],
   "source": [],
   "metadata": {
    "collapsed": false
   },
   "id": "e640257ab5f8f1"
  }
 ],
 "metadata": {
  "kernelspec": {
   "display_name": "Python 3",
   "language": "python",
   "name": "python3"
  },
  "language_info": {
   "codemirror_mode": {
    "name": "ipython",
    "version": 2
   },
   "file_extension": ".py",
   "mimetype": "text/x-python",
   "name": "python",
   "nbconvert_exporter": "python",
   "pygments_lexer": "ipython2",
   "version": "2.7.6"
  }
 },
 "nbformat": 4,
 "nbformat_minor": 5
}
