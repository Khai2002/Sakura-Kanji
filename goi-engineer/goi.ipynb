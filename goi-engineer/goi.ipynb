{
 "cells": [
  {
   "cell_type": "code",
   "execution_count": 1,
   "id": "initial_id",
   "metadata": {
    "collapsed": true,
    "ExecuteTime": {
     "end_time": "2024-06-26T20:26:30.026884800Z",
     "start_time": "2024-06-26T20:26:28.567141500Z"
    }
   },
   "outputs": [],
   "source": [
    "import pandas as pd"
   ]
  },
  {
   "cell_type": "code",
   "execution_count": 3,
   "outputs": [],
   "source": [
    "df = pd.read_csv('../data/jlpt_vocab.csv')"
   ],
   "metadata": {
    "collapsed": false,
    "ExecuteTime": {
     "end_time": "2024-06-26T20:27:18.137410100Z",
     "start_time": "2024-06-26T20:27:18.075978500Z"
    }
   },
   "id": "40227d4e406e063e"
  },
  {
   "cell_type": "code",
   "execution_count": 4,
   "outputs": [
    {
     "data": {
      "text/plain": "     Original Furigana                                         English  \\\n0          現像     げんぞう                               developing (film)   \n1          原則     げんそく                         principle, general rule   \n2          見地      けんち                                   point of view   \n3          現地      げんち                             actual place, local   \n4          限定     げんてい                              limit, restriction   \n...       ...      ...                                             ...   \n8125        私      わたし                                       I, myself   \n8126        私     わたくし             I (formal), myself, private affairs   \n8127       渡す      わたす  to hand (something) over (v.t.); to get across   \n8128       渡る      わたる                     to cross over, to go across   \n8129       悪い      わるい                           bad, sinful; inferior   \n\n     JLPT Level  \n0            N1  \n1            N1  \n2            N1  \n3            N1  \n4            N1  \n...         ...  \n8125         N5  \n8126         N5  \n8127         N5  \n8128         N5  \n8129         N5  \n\n[8130 rows x 4 columns]",
      "text/html": "<div>\n<style scoped>\n    .dataframe tbody tr th:only-of-type {\n        vertical-align: middle;\n    }\n\n    .dataframe tbody tr th {\n        vertical-align: top;\n    }\n\n    .dataframe thead th {\n        text-align: right;\n    }\n</style>\n<table border=\"1\" class=\"dataframe\">\n  <thead>\n    <tr style=\"text-align: right;\">\n      <th></th>\n      <th>Original</th>\n      <th>Furigana</th>\n      <th>English</th>\n      <th>JLPT Level</th>\n    </tr>\n  </thead>\n  <tbody>\n    <tr>\n      <th>0</th>\n      <td>現像</td>\n      <td>げんぞう</td>\n      <td>developing (film)</td>\n      <td>N1</td>\n    </tr>\n    <tr>\n      <th>1</th>\n      <td>原則</td>\n      <td>げんそく</td>\n      <td>principle, general rule</td>\n      <td>N1</td>\n    </tr>\n    <tr>\n      <th>2</th>\n      <td>見地</td>\n      <td>けんち</td>\n      <td>point of view</td>\n      <td>N1</td>\n    </tr>\n    <tr>\n      <th>3</th>\n      <td>現地</td>\n      <td>げんち</td>\n      <td>actual place, local</td>\n      <td>N1</td>\n    </tr>\n    <tr>\n      <th>4</th>\n      <td>限定</td>\n      <td>げんてい</td>\n      <td>limit, restriction</td>\n      <td>N1</td>\n    </tr>\n    <tr>\n      <th>...</th>\n      <td>...</td>\n      <td>...</td>\n      <td>...</td>\n      <td>...</td>\n    </tr>\n    <tr>\n      <th>8125</th>\n      <td>私</td>\n      <td>わたし</td>\n      <td>I, myself</td>\n      <td>N5</td>\n    </tr>\n    <tr>\n      <th>8126</th>\n      <td>私</td>\n      <td>わたくし</td>\n      <td>I (formal), myself, private affairs</td>\n      <td>N5</td>\n    </tr>\n    <tr>\n      <th>8127</th>\n      <td>渡す</td>\n      <td>わたす</td>\n      <td>to hand (something) over (v.t.); to get across</td>\n      <td>N5</td>\n    </tr>\n    <tr>\n      <th>8128</th>\n      <td>渡る</td>\n      <td>わたる</td>\n      <td>to cross over, to go across</td>\n      <td>N5</td>\n    </tr>\n    <tr>\n      <th>8129</th>\n      <td>悪い</td>\n      <td>わるい</td>\n      <td>bad, sinful; inferior</td>\n      <td>N5</td>\n    </tr>\n  </tbody>\n</table>\n<p>8130 rows × 4 columns</p>\n</div>"
     },
     "execution_count": 4,
     "metadata": {},
     "output_type": "execute_result"
    }
   ],
   "source": [
    "df"
   ],
   "metadata": {
    "collapsed": false,
    "ExecuteTime": {
     "end_time": "2024-06-26T20:27:22.161019200Z",
     "start_time": "2024-06-26T20:27:22.135495Z"
    }
   },
   "id": "c3b75161fd15bc4b"
  },
  {
   "cell_type": "code",
   "execution_count": 3,
   "outputs": [],
   "source": [
    "df = df.rename(columns={\"JLPT Level\": \"JLPT\"})"
   ],
   "metadata": {
    "collapsed": false
   },
   "id": "efed481ac525ae54"
  },
  {
   "cell_type": "code",
   "execution_count": 4,
   "outputs": [],
   "source": [
    "df = df.loc[(df[\"JLPT\"] == \"N5\") | (df[\"JLPT\"] == \"N4\")]"
   ],
   "metadata": {
    "collapsed": false
   },
   "id": "bce5bedf0a44233e"
  }
 ],
 "metadata": {
  "kernelspec": {
   "display_name": "Python 3",
   "language": "python",
   "name": "python3"
  },
  "language_info": {
   "codemirror_mode": {
    "name": "ipython",
    "version": 2
   },
   "file_extension": ".py",
   "mimetype": "text/x-python",
   "name": "python",
   "nbconvert_exporter": "python",
   "pygments_lexer": "ipython2",
   "version": "2.7.6"
  }
 },
 "nbformat": 4,
 "nbformat_minor": 5
}
