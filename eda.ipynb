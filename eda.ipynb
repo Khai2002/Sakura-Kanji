{
 "cells": [
  {
   "cell_type": "code",
   "execution_count": 1,
   "id": "initial_id",
   "metadata": {
    "collapsed": true,
    "ExecuteTime": {
     "end_time": "2024-06-19T15:29:42.493427900Z",
     "start_time": "2024-06-19T15:29:41.335744800Z"
    }
   },
   "outputs": [],
   "source": [
    "import pandas as pd"
   ]
  },
  {
   "cell_type": "code",
   "execution_count": 2,
   "outputs": [],
   "source": [
    "df = pd.read_csv('data/jlpt_vocab.csv')"
   ],
   "metadata": {
    "collapsed": false,
    "ExecuteTime": {
     "end_time": "2024-06-19T15:29:42.549453900Z",
     "start_time": "2024-06-19T15:29:42.497432200Z"
    }
   },
   "id": "8f185f91d1c604a3"
  },
  {
   "cell_type": "code",
   "execution_count": 3,
   "outputs": [],
   "source": [
    "df = df.rename(columns={\"JLPT Level\": \"JLPT\"})"
   ],
   "metadata": {
    "collapsed": false,
    "ExecuteTime": {
     "end_time": "2024-06-19T15:29:42.573565900Z",
     "start_time": "2024-06-19T15:29:42.548447500Z"
    }
   },
   "id": "c3252946e29ab4a3"
  },
  {
   "cell_type": "code",
   "execution_count": 4,
   "outputs": [],
   "source": [
    "df = df.loc[(df[\"JLPT\"] == \"N5\") | (df[\"JLPT\"] == \"N4\")]"
   ],
   "metadata": {
    "collapsed": false,
    "ExecuteTime": {
     "end_time": "2024-06-19T15:29:42.577578300Z",
     "start_time": "2024-06-19T15:29:42.556456700Z"
    }
   },
   "id": "84804d0739612642"
  },
  {
   "cell_type": "code",
   "execution_count": 5,
   "outputs": [
    {
     "data": {
      "text/plain": "     Original Furigana                                         English JLPT\n6744       踏む       ふむ                         to step on, to tread on   N4\n6745       ～区       ～く                   ~ district, ~ ward, ~ borough   N4\n6746      すっと      すっと                               straight, quickly   N4\n6747       盗む      ぬすむ                                to steal; to rob   N4\n6748       大抵     たいてい                              generally, usually   N4\n...       ...      ...                                             ...  ...\n8125        私      わたし                                       I, myself   N5\n8126        私     わたくし             I (formal), myself, private affairs   N5\n8127       渡す      わたす  to hand (something) over (v.t.); to get across   N5\n8128       渡る      わたる                     to cross over, to go across   N5\n8129       悪い      わるい                           bad, sinful; inferior   N5\n\n[1386 rows x 4 columns]",
      "text/html": "<div>\n<style scoped>\n    .dataframe tbody tr th:only-of-type {\n        vertical-align: middle;\n    }\n\n    .dataframe tbody tr th {\n        vertical-align: top;\n    }\n\n    .dataframe thead th {\n        text-align: right;\n    }\n</style>\n<table border=\"1\" class=\"dataframe\">\n  <thead>\n    <tr style=\"text-align: right;\">\n      <th></th>\n      <th>Original</th>\n      <th>Furigana</th>\n      <th>English</th>\n      <th>JLPT</th>\n    </tr>\n  </thead>\n  <tbody>\n    <tr>\n      <th>6744</th>\n      <td>踏む</td>\n      <td>ふむ</td>\n      <td>to step on, to tread on</td>\n      <td>N4</td>\n    </tr>\n    <tr>\n      <th>6745</th>\n      <td>～区</td>\n      <td>～く</td>\n      <td>~ district, ~ ward, ~ borough</td>\n      <td>N4</td>\n    </tr>\n    <tr>\n      <th>6746</th>\n      <td>すっと</td>\n      <td>すっと</td>\n      <td>straight, quickly</td>\n      <td>N4</td>\n    </tr>\n    <tr>\n      <th>6747</th>\n      <td>盗む</td>\n      <td>ぬすむ</td>\n      <td>to steal; to rob</td>\n      <td>N4</td>\n    </tr>\n    <tr>\n      <th>6748</th>\n      <td>大抵</td>\n      <td>たいてい</td>\n      <td>generally, usually</td>\n      <td>N4</td>\n    </tr>\n    <tr>\n      <th>...</th>\n      <td>...</td>\n      <td>...</td>\n      <td>...</td>\n      <td>...</td>\n    </tr>\n    <tr>\n      <th>8125</th>\n      <td>私</td>\n      <td>わたし</td>\n      <td>I, myself</td>\n      <td>N5</td>\n    </tr>\n    <tr>\n      <th>8126</th>\n      <td>私</td>\n      <td>わたくし</td>\n      <td>I (formal), myself, private affairs</td>\n      <td>N5</td>\n    </tr>\n    <tr>\n      <th>8127</th>\n      <td>渡す</td>\n      <td>わたす</td>\n      <td>to hand (something) over (v.t.); to get across</td>\n      <td>N5</td>\n    </tr>\n    <tr>\n      <th>8128</th>\n      <td>渡る</td>\n      <td>わたる</td>\n      <td>to cross over, to go across</td>\n      <td>N5</td>\n    </tr>\n    <tr>\n      <th>8129</th>\n      <td>悪い</td>\n      <td>わるい</td>\n      <td>bad, sinful; inferior</td>\n      <td>N5</td>\n    </tr>\n  </tbody>\n</table>\n<p>1386 rows × 4 columns</p>\n</div>"
     },
     "execution_count": 5,
     "metadata": {},
     "output_type": "execute_result"
    }
   ],
   "source": [
    "df"
   ],
   "metadata": {
    "collapsed": false,
    "ExecuteTime": {
     "end_time": "2024-06-19T15:29:42.607362800Z",
     "start_time": "2024-06-19T15:29:42.578565900Z"
    }
   },
   "id": "3e87e09867e11611"
  },
  {
   "cell_type": "markdown",
   "source": [
    "CREATE \n",
    "(russell:PLAYER{name:\"Russell Westbrook\", age: 33, number: 0, height: 1.91, weight: 91}),\n",
    "(lebron:PLAYER{name:\"LeBron James\", age: 36, number: 6, height: 2.06, weight: 113}),\n",
    "\n"
   ],
   "metadata": {
    "collapsed": false
   },
   "id": "261f41c811babb25"
  },
  {
   "cell_type": "code",
   "execution_count": 15,
   "outputs": [],
   "source": [
    "def escape_quotes(input_string):\n",
    "    # Escape single and double quotes\n",
    "    escaped_string = input_string.replace('\"', '\\\\\"').replace(\"'\", \"\\\\'\")\n",
    "    return escaped_string\n",
    "\n",
    "def cypher_transform(row):\n",
    "    cypher = ':GOI{'\n",
    "    for col in row.keys()[:-1]:\n",
    "        cypher = cypher + col.lower() + \":\\\"\" + escape_quotes(str(row[col])) + \"\\\", \"\n",
    "    cypher = cypher + row.keys()[-1].lower() + \":\\\"\" + str(row[row.keys()[-1]]) + \"\\\"}\"\n",
    "    return cypher"
   ],
   "metadata": {
    "collapsed": false,
    "ExecuteTime": {
     "end_time": "2024-06-19T15:36:19.655437Z",
     "start_time": "2024-06-19T15:36:19.633711900Z"
    }
   },
   "id": "1d57881b362ece91"
  },
  {
   "cell_type": "code",
   "execution_count": 16,
   "outputs": [],
   "source": [
    "series = df.apply(cypher_transform, axis=1)"
   ],
   "metadata": {
    "collapsed": false,
    "ExecuteTime": {
     "end_time": "2024-06-19T15:36:20.251693Z",
     "start_time": "2024-06-19T15:36:20.141012800Z"
    }
   },
   "id": "82f3d212424240ea"
  },
  {
   "cell_type": "code",
   "execution_count": 18,
   "outputs": [],
   "source": [
    "def format_and_save_series(series, filename):\n",
    "    with open(filename, 'w', encoding='utf-8') as file:\n",
    "        file.write(\"CREATE\\n\")\n",
    "        for s in series:\n",
    "            file.write(f\"({s}),\\n\")"
   ],
   "metadata": {
    "collapsed": false,
    "ExecuteTime": {
     "end_time": "2024-06-19T15:36:55.842594800Z",
     "start_time": "2024-06-19T15:36:55.827694Z"
    }
   },
   "id": "ffae8b8911f7309"
  },
  {
   "cell_type": "code",
   "execution_count": 19,
   "outputs": [],
   "source": [
    "format_and_save_series(series, 'cypher.txt')"
   ],
   "metadata": {
    "collapsed": false,
    "ExecuteTime": {
     "end_time": "2024-06-19T15:36:56.188762500Z",
     "start_time": "2024-06-19T15:36:56.166967700Z"
    }
   },
   "id": "14b4c6671b294f83"
  },
  {
   "cell_type": "code",
   "execution_count": 17,
   "outputs": [
    {
     "data": {
      "text/plain": "6744    :GOI{original:\"踏む\", furigana:\"ふむ\", english:\"to...\n6745    :GOI{original:\"～区\", furigana:\"～く\", english:\"~ ...\n6746    :GOI{original:\"すっと\", furigana:\"すっと\", english:\"...\n6747    :GOI{original:\"盗む\", furigana:\"ぬすむ\", english:\"t...\n6748    :GOI{original:\"大抵\", furigana:\"たいてい\", english:\"...\n                              ...                        \n8125    :GOI{original:\"私\", furigana:\"わたし\", english:\"I,...\n8126    :GOI{original:\"私\", furigana:\"わたくし\", english:\"I...\n8127    :GOI{original:\"渡す\", furigana:\"わたす\", english:\"t...\n8128    :GOI{original:\"渡る\", furigana:\"わたる\", english:\"t...\n8129    :GOI{original:\"悪い\", furigana:\"わるい\", english:\"b...\nLength: 1386, dtype: object"
     },
     "execution_count": 17,
     "metadata": {},
     "output_type": "execute_result"
    }
   ],
   "source": [
    "series"
   ],
   "metadata": {
    "collapsed": false,
    "ExecuteTime": {
     "end_time": "2024-06-19T15:36:22.041125700Z",
     "start_time": "2024-06-19T15:36:22.007572200Z"
    }
   },
   "id": "f99eb42c6ff0e75e"
  }
 ],
 "metadata": {
  "kernelspec": {
   "display_name": "Python 3",
   "language": "python",
   "name": "python3"
  },
  "language_info": {
   "codemirror_mode": {
    "name": "ipython",
    "version": 2
   },
   "file_extension": ".py",
   "mimetype": "text/x-python",
   "name": "python",
   "nbconvert_exporter": "python",
   "pygments_lexer": "ipython2",
   "version": "2.7.6"
  }
 },
 "nbformat": 4,
 "nbformat_minor": 5
}
