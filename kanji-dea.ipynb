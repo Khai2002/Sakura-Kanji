{
 "cells": [
  {
   "cell_type": "code",
   "execution_count": 6,
   "outputs": [],
   "source": [
    "import pandas as pd"
   ],
   "metadata": {
    "collapsed": false,
    "ExecuteTime": {
     "end_time": "2024-06-19T14:36:54.375574200Z",
     "start_time": "2024-06-19T14:36:54.354070600Z"
    }
   },
   "id": "5802426b1c9d399e"
  },
  {
   "cell_type": "code",
   "execution_count": 24,
   "outputs": [],
   "source": [
    "df = pd.read_feather(\"data/speed_kanji.feather\")"
   ],
   "metadata": {
    "collapsed": false,
    "ExecuteTime": {
     "end_time": "2024-06-19T14:40:02.140666800Z",
     "start_time": "2024-06-19T14:40:02.118751Z"
    }
   },
   "id": "60ec8716ba6e27c"
  },
  {
   "cell_type": "code",
   "execution_count": 26,
   "outputs": [],
   "source": [
    "full = pd.read_feather(\"data/full_kanji.feather\")"
   ],
   "metadata": {
    "collapsed": false,
    "ExecuteTime": {
     "end_time": "2024-06-19T14:41:14.164184600Z",
     "start_time": "2024-06-19T14:41:14.123281200Z"
    }
   },
   "id": "bf7502b517c6cef7"
  },
  {
   "cell_type": "code",
   "execution_count": 32,
   "outputs": [
    {
     "data": {
      "text/plain": "      kanji  jlpt_new  jlpt_old\n61        分       NaN       4.0\n157       里       NaN       1.0\n249       身       NaN       2.0\n473       的       NaN       2.0\n553       阪       NaN       NaN\n...     ...       ...       ...\n13103     辶       NaN       NaN\n13104     逸       NaN       NaN\n13105     難       NaN       NaN\n13106     響       NaN       NaN\n13107     頻       NaN       NaN\n\n[10897 rows x 3 columns]",
      "text/html": "<div>\n<style scoped>\n    .dataframe tbody tr th:only-of-type {\n        vertical-align: middle;\n    }\n\n    .dataframe tbody tr th {\n        vertical-align: top;\n    }\n\n    .dataframe thead th {\n        text-align: right;\n    }\n</style>\n<table border=\"1\" class=\"dataframe\">\n  <thead>\n    <tr style=\"text-align: right;\">\n      <th></th>\n      <th>kanji</th>\n      <th>jlpt_new</th>\n      <th>jlpt_old</th>\n    </tr>\n  </thead>\n  <tbody>\n    <tr>\n      <th>61</th>\n      <td>分</td>\n      <td>NaN</td>\n      <td>4.0</td>\n    </tr>\n    <tr>\n      <th>157</th>\n      <td>里</td>\n      <td>NaN</td>\n      <td>1.0</td>\n    </tr>\n    <tr>\n      <th>249</th>\n      <td>身</td>\n      <td>NaN</td>\n      <td>2.0</td>\n    </tr>\n    <tr>\n      <th>473</th>\n      <td>的</td>\n      <td>NaN</td>\n      <td>2.0</td>\n    </tr>\n    <tr>\n      <th>553</th>\n      <td>阪</td>\n      <td>NaN</td>\n      <td>NaN</td>\n    </tr>\n    <tr>\n      <th>...</th>\n      <td>...</td>\n      <td>...</td>\n      <td>...</td>\n    </tr>\n    <tr>\n      <th>13103</th>\n      <td>辶</td>\n      <td>NaN</td>\n      <td>NaN</td>\n    </tr>\n    <tr>\n      <th>13104</th>\n      <td>逸</td>\n      <td>NaN</td>\n      <td>NaN</td>\n    </tr>\n    <tr>\n      <th>13105</th>\n      <td>難</td>\n      <td>NaN</td>\n      <td>NaN</td>\n    </tr>\n    <tr>\n      <th>13106</th>\n      <td>響</td>\n      <td>NaN</td>\n      <td>NaN</td>\n    </tr>\n    <tr>\n      <th>13107</th>\n      <td>頻</td>\n      <td>NaN</td>\n      <td>NaN</td>\n    </tr>\n  </tbody>\n</table>\n<p>10897 rows × 3 columns</p>\n</div>"
     },
     "execution_count": 32,
     "metadata": {},
     "output_type": "execute_result"
    }
   ],
   "source": [
    "full[['kanji', 'jlpt_new', 'jlpt_old']].loc[full['jlpt_new'].isna()]"
   ],
   "metadata": {
    "collapsed": false,
    "ExecuteTime": {
     "end_time": "2024-06-19T14:42:39.123197700Z",
     "start_time": "2024-06-19T14:42:39.100694Z"
    }
   },
   "id": "8cc4a0c304e9d282"
  },
  {
   "cell_type": "code",
   "execution_count": null,
   "outputs": [],
   "source": [],
   "metadata": {
    "collapsed": false
   },
   "id": "111a8eb556d0d36c"
  }
 ],
 "metadata": {
  "kernelspec": {
   "display_name": "Python 3",
   "language": "python",
   "name": "python3"
  },
  "language_info": {
   "codemirror_mode": {
    "name": "ipython",
    "version": 2
   },
   "file_extension": ".py",
   "mimetype": "text/x-python",
   "name": "python",
   "nbconvert_exporter": "python",
   "pygments_lexer": "ipython2",
   "version": "2.7.6"
  }
 },
 "nbformat": 4,
 "nbformat_minor": 5
}
