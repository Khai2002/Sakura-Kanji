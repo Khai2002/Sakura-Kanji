{
 "cells": [
  {
   "cell_type": "markdown",
   "source": [
    "## Proposal to put \n",
    "- grade: 13\n",
    "- freq: 0\n",
    "- jlpt_new: 0"
   ],
   "metadata": {
    "collapsed": false
   },
   "id": "ec623175e32e6d7"
  },
  {
   "cell_type": "code",
   "execution_count": 62,
   "id": "initial_id",
   "metadata": {
    "collapsed": true,
    "ExecuteTime": {
     "end_time": "2024-06-26T20:36:14.468940Z",
     "start_time": "2024-06-26T20:36:14.448205400Z"
    }
   },
   "outputs": [],
   "source": [
    "import pandas as pd"
   ]
  },
  {
   "cell_type": "code",
   "execution_count": 63,
   "outputs": [],
   "source": [
    "df = pd.read_feather('../data/essential_kanji.feather')"
   ],
   "metadata": {
    "collapsed": false,
    "ExecuteTime": {
     "end_time": "2024-06-26T20:36:14.772644400Z",
     "start_time": "2024-06-26T20:36:14.727424Z"
    }
   },
   "id": "c4ad8d51b7d004fc"
  },
  {
   "cell_type": "code",
   "execution_count": 64,
   "outputs": [],
   "source": [
    "def concatenate_strings(string_list):\n",
    "    # Join all elements in the list into a single string, separated by commas\n",
    "    concatenated_string = ', '.join(string_list)\n",
    "    \n",
    "    # Return the concatenated string\n",
    "    return concatenated_string"
   ],
   "metadata": {
    "collapsed": false,
    "ExecuteTime": {
     "end_time": "2024-06-26T20:36:14.968212Z",
     "start_time": "2024-06-26T20:36:14.955435500Z"
    }
   },
   "id": "2a042b97ec7a9d79"
  },
  {
   "cell_type": "code",
   "execution_count": 65,
   "outputs": [
    {
     "data": {
      "text/plain": "(13108, 8)"
     },
     "execution_count": 65,
     "metadata": {},
     "output_type": "execute_result"
    }
   ],
   "source": [
    "df.head()\n",
    "df.shape"
   ],
   "metadata": {
    "collapsed": false,
    "ExecuteTime": {
     "end_time": "2024-06-26T20:36:15.337430Z",
     "start_time": "2024-06-26T20:36:15.314004800Z"
    }
   },
   "id": "b599b3617e3a2355"
  },
  {
   "cell_type": "code",
   "execution_count": 66,
   "outputs": [],
   "source": [
    "df.freq.fillna(0, inplace=True)\n",
    "df.jlpt_new.fillna(0, inplace=True)\n",
    "df.grade.fillna(13, inplace=True)"
   ],
   "metadata": {
    "collapsed": false,
    "ExecuteTime": {
     "end_time": "2024-06-26T20:36:16.884464600Z",
     "start_time": "2024-06-26T20:36:16.852741900Z"
    }
   },
   "id": "cad162aac2b08360"
  },
  {
   "cell_type": "code",
   "execution_count": 67,
   "outputs": [],
   "source": [
    "df[[\"grade\", \"freq\", \"jlpt_new\"]] = df[[\"grade\", \"freq\", \"jlpt_new\"]].astype('int64', errors='ignore')"
   ],
   "metadata": {
    "collapsed": false,
    "ExecuteTime": {
     "end_time": "2024-06-26T20:36:20.134653800Z",
     "start_time": "2024-06-26T20:36:20.116096600Z"
    }
   },
   "id": "ddbdb7f049d44064"
  },
  {
   "cell_type": "code",
   "execution_count": 68,
   "outputs": [],
   "source": [
    "df['meanings'] = df['meanings'].apply(concatenate_strings)\n",
    "df['readings_kun'] = df['readings_kun'].apply(concatenate_strings)\n",
    "df['readings_on'] = df['readings_on'].apply(concatenate_strings)"
   ],
   "metadata": {
    "collapsed": false,
    "ExecuteTime": {
     "end_time": "2024-06-26T20:36:22.363505600Z",
     "start_time": "2024-06-26T20:36:22.331874400Z"
    }
   },
   "id": "8dc4b7e2b9e8fd96"
  },
  {
   "cell_type": "code",
   "execution_count": 69,
   "outputs": [],
   "source": [
    "df = df.rename(columns={\"jlpt_new\": \"jlpt\"})"
   ],
   "metadata": {
    "collapsed": false,
    "ExecuteTime": {
     "end_time": "2024-06-26T20:36:24.337844400Z",
     "start_time": "2024-06-26T20:36:24.312666900Z"
    }
   },
   "id": "624cd461d9937fda"
  },
  {
   "cell_type": "code",
   "execution_count": 70,
   "outputs": [
    {
     "data": {
      "text/plain": "      kanji  strokes  grade  freq  jlpt                  meanings readings_on  \\\n0         一        1      1     2     5   One, One Radical (no.1)      いち, いつ   \n1         二        2      1     9     5  Two, Two Radical (no. 7)        に, じ   \n2         九        2      1    55     5                      Nine      きゅう, く   \n3         七        2      1   115     5                     Seven          しち   \n4         人        2      1     5     5                    Person      じん, にん   \n...     ...      ...    ...   ...   ...                       ...         ...   \n13103     辶        3     13     0     0                                         \n13104     逸       12     10     0     0                                         \n13105     難       19     10     0     0                                    なん   \n13106     響       22     10     0     0                                   きょう   \n13107     頻       16     13     0     0                                    ひん   \n\n         readings_kun  \n0           ひと-, ひと.つ  \n1      ふた, ふた.つ, ふたたび  \n2          ここの, ここの.つ  \n3        なな, なな.つ, なの  \n4          ひと, -り, -と  \n...               ...  \n13103           しんにょう  \n13104           しんにょう  \n13105      かたい, むずかしい  \n13106             ひびく  \n13107                  \n\n[13108 rows x 8 columns]",
      "text/html": "<div>\n<style scoped>\n    .dataframe tbody tr th:only-of-type {\n        vertical-align: middle;\n    }\n\n    .dataframe tbody tr th {\n        vertical-align: top;\n    }\n\n    .dataframe thead th {\n        text-align: right;\n    }\n</style>\n<table border=\"1\" class=\"dataframe\">\n  <thead>\n    <tr style=\"text-align: right;\">\n      <th></th>\n      <th>kanji</th>\n      <th>strokes</th>\n      <th>grade</th>\n      <th>freq</th>\n      <th>jlpt</th>\n      <th>meanings</th>\n      <th>readings_on</th>\n      <th>readings_kun</th>\n    </tr>\n  </thead>\n  <tbody>\n    <tr>\n      <th>0</th>\n      <td>一</td>\n      <td>1</td>\n      <td>1</td>\n      <td>2</td>\n      <td>5</td>\n      <td>One, One Radical (no.1)</td>\n      <td>いち, いつ</td>\n      <td>ひと-, ひと.つ</td>\n    </tr>\n    <tr>\n      <th>1</th>\n      <td>二</td>\n      <td>2</td>\n      <td>1</td>\n      <td>9</td>\n      <td>5</td>\n      <td>Two, Two Radical (no. 7)</td>\n      <td>に, じ</td>\n      <td>ふた, ふた.つ, ふたたび</td>\n    </tr>\n    <tr>\n      <th>2</th>\n      <td>九</td>\n      <td>2</td>\n      <td>1</td>\n      <td>55</td>\n      <td>5</td>\n      <td>Nine</td>\n      <td>きゅう, く</td>\n      <td>ここの, ここの.つ</td>\n    </tr>\n    <tr>\n      <th>3</th>\n      <td>七</td>\n      <td>2</td>\n      <td>1</td>\n      <td>115</td>\n      <td>5</td>\n      <td>Seven</td>\n      <td>しち</td>\n      <td>なな, なな.つ, なの</td>\n    </tr>\n    <tr>\n      <th>4</th>\n      <td>人</td>\n      <td>2</td>\n      <td>1</td>\n      <td>5</td>\n      <td>5</td>\n      <td>Person</td>\n      <td>じん, にん</td>\n      <td>ひと, -り, -と</td>\n    </tr>\n    <tr>\n      <th>...</th>\n      <td>...</td>\n      <td>...</td>\n      <td>...</td>\n      <td>...</td>\n      <td>...</td>\n      <td>...</td>\n      <td>...</td>\n      <td>...</td>\n    </tr>\n    <tr>\n      <th>13103</th>\n      <td>辶</td>\n      <td>3</td>\n      <td>13</td>\n      <td>0</td>\n      <td>0</td>\n      <td></td>\n      <td></td>\n      <td>しんにょう</td>\n    </tr>\n    <tr>\n      <th>13104</th>\n      <td>逸</td>\n      <td>12</td>\n      <td>10</td>\n      <td>0</td>\n      <td>0</td>\n      <td></td>\n      <td></td>\n      <td>しんにょう</td>\n    </tr>\n    <tr>\n      <th>13105</th>\n      <td>難</td>\n      <td>19</td>\n      <td>10</td>\n      <td>0</td>\n      <td>0</td>\n      <td></td>\n      <td>なん</td>\n      <td>かたい, むずかしい</td>\n    </tr>\n    <tr>\n      <th>13106</th>\n      <td>響</td>\n      <td>22</td>\n      <td>10</td>\n      <td>0</td>\n      <td>0</td>\n      <td></td>\n      <td>きょう</td>\n      <td>ひびく</td>\n    </tr>\n    <tr>\n      <th>13107</th>\n      <td>頻</td>\n      <td>16</td>\n      <td>13</td>\n      <td>0</td>\n      <td>0</td>\n      <td></td>\n      <td>ひん</td>\n      <td></td>\n    </tr>\n  </tbody>\n</table>\n<p>13108 rows × 8 columns</p>\n</div>"
     },
     "execution_count": 70,
     "metadata": {},
     "output_type": "execute_result"
    }
   ],
   "source": [
    "df"
   ],
   "metadata": {
    "collapsed": false,
    "ExecuteTime": {
     "end_time": "2024-06-26T20:36:25.111426800Z",
     "start_time": "2024-06-26T20:36:25.090486400Z"
    }
   },
   "id": "7740ed8b5cc798e0"
  },
  {
   "cell_type": "code",
   "execution_count": 71,
   "outputs": [],
   "source": [
    "df.to_csv(\"clean-kanji.csv\", index=False)"
   ],
   "metadata": {
    "collapsed": false,
    "ExecuteTime": {
     "end_time": "2024-06-26T20:36:44.651110800Z",
     "start_time": "2024-06-26T20:36:44.591127200Z"
    }
   },
   "id": "3846ea9557017e04"
  },
  {
   "cell_type": "code",
   "execution_count": 25,
   "outputs": [
    {
     "data": {
      "text/plain": "      kanji  strokes  grade  freq  jlpt_new\n0         一        1      1     2         5\n1         二        2      1     9         5\n2         九        2      1    55         5\n3         七        2      1   115         5\n4         人        2      1     5         5\n...     ...      ...    ...   ...       ...\n13103     辶        3     13     0         0\n13104     逸       12     10     0         0\n13105     難       19     10     0         0\n13106     響       22     10     0         0\n13107     頻       16     13     0         0\n\n[13108 rows x 5 columns]",
      "text/html": "<div>\n<style scoped>\n    .dataframe tbody tr th:only-of-type {\n        vertical-align: middle;\n    }\n\n    .dataframe tbody tr th {\n        vertical-align: top;\n    }\n\n    .dataframe thead th {\n        text-align: right;\n    }\n</style>\n<table border=\"1\" class=\"dataframe\">\n  <thead>\n    <tr style=\"text-align: right;\">\n      <th></th>\n      <th>kanji</th>\n      <th>strokes</th>\n      <th>grade</th>\n      <th>freq</th>\n      <th>jlpt_new</th>\n    </tr>\n  </thead>\n  <tbody>\n    <tr>\n      <th>0</th>\n      <td>一</td>\n      <td>1</td>\n      <td>1</td>\n      <td>2</td>\n      <td>5</td>\n    </tr>\n    <tr>\n      <th>1</th>\n      <td>二</td>\n      <td>2</td>\n      <td>1</td>\n      <td>9</td>\n      <td>5</td>\n    </tr>\n    <tr>\n      <th>2</th>\n      <td>九</td>\n      <td>2</td>\n      <td>1</td>\n      <td>55</td>\n      <td>5</td>\n    </tr>\n    <tr>\n      <th>3</th>\n      <td>七</td>\n      <td>2</td>\n      <td>1</td>\n      <td>115</td>\n      <td>5</td>\n    </tr>\n    <tr>\n      <th>4</th>\n      <td>人</td>\n      <td>2</td>\n      <td>1</td>\n      <td>5</td>\n      <td>5</td>\n    </tr>\n    <tr>\n      <th>...</th>\n      <td>...</td>\n      <td>...</td>\n      <td>...</td>\n      <td>...</td>\n      <td>...</td>\n    </tr>\n    <tr>\n      <th>13103</th>\n      <td>辶</td>\n      <td>3</td>\n      <td>13</td>\n      <td>0</td>\n      <td>0</td>\n    </tr>\n    <tr>\n      <th>13104</th>\n      <td>逸</td>\n      <td>12</td>\n      <td>10</td>\n      <td>0</td>\n      <td>0</td>\n    </tr>\n    <tr>\n      <th>13105</th>\n      <td>難</td>\n      <td>19</td>\n      <td>10</td>\n      <td>0</td>\n      <td>0</td>\n    </tr>\n    <tr>\n      <th>13106</th>\n      <td>響</td>\n      <td>22</td>\n      <td>10</td>\n      <td>0</td>\n      <td>0</td>\n    </tr>\n    <tr>\n      <th>13107</th>\n      <td>頻</td>\n      <td>16</td>\n      <td>13</td>\n      <td>0</td>\n      <td>0</td>\n    </tr>\n  </tbody>\n</table>\n<p>13108 rows × 5 columns</p>\n</div>"
     },
     "execution_count": 25,
     "metadata": {},
     "output_type": "execute_result"
    }
   ],
   "source": [
    "df"
   ],
   "metadata": {
    "collapsed": false,
    "ExecuteTime": {
     "end_time": "2024-06-26T20:27:33.664564600Z",
     "start_time": "2024-06-26T20:27:33.632920500Z"
    }
   },
   "id": "974c3bfbdb57b061"
  },
  {
   "cell_type": "code",
   "execution_count": null,
   "outputs": [],
   "source": [],
   "metadata": {
    "collapsed": false
   },
   "id": "f8ac77d821991ba8"
  }
 ],
 "metadata": {
  "kernelspec": {
   "display_name": "Python 3",
   "language": "python",
   "name": "python3"
  },
  "language_info": {
   "codemirror_mode": {
    "name": "ipython",
    "version": 2
   },
   "file_extension": ".py",
   "mimetype": "text/x-python",
   "name": "python",
   "nbconvert_exporter": "python",
   "pygments_lexer": "ipython2",
   "version": "2.7.6"
  }
 },
 "nbformat": 4,
 "nbformat_minor": 5
}
